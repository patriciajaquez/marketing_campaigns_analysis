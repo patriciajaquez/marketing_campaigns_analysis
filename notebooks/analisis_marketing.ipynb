{
 "cells": [
  {
   "cell_type": "markdown",
   "metadata": {},
   "source": [
    "# DATA PREPROCESSING"
   ]
  },
  {
   "cell_type": "code",
   "execution_count": 1,
   "metadata": {},
   "outputs": [],
   "source": [
    "#Library Imports\n",
    "import pandas as pd\n",
    "import matplotlib.pyplot as plt\n",
    "import seaborn as sns\n",
    "import numpy as np\n",
    "from datetime import datetime\n",
    "import os\n",
    "import csv\n",
    "from io import StringIO\n"
   ]
  },
  {
   "cell_type": "code",
   "execution_count": 2,
   "metadata": {},
   "outputs": [],
   "source": [
    "# Load the CSV file\n",
    "# Read the CSV, keeping all rows as raw text\n",
    "input_path = \"/Users/patriciajaquez/Documents/GitHub/module1_project/data/raw/marketingcampaigns.csv\"\n",
    "rows = []\n",
    "expected_columns = 10\n",
    "\n",
    "with open(input_path, 'r', encoding='utf-8') as infile:\n",
    "    for line in infile:\n",
    "        if len(line.strip().split(',')) == expected_columns:\n",
    "            rows.append(line)\n",
    "\n",
    "# Join the clean rows and load into pandas\n",
    "clean_data = pd.read_csv(StringIO(''.join(rows)))"
   ]
  },
  {
   "cell_type": "code",
   "execution_count": 3,
   "metadata": {},
   "outputs": [
    {
     "data": {
      "text/html": [
       "<div>\n",
       "<style scoped>\n",
       "    .dataframe tbody tr th:only-of-type {\n",
       "        vertical-align: middle;\n",
       "    }\n",
       "\n",
       "    .dataframe tbody tr th {\n",
       "        vertical-align: top;\n",
       "    }\n",
       "\n",
       "    .dataframe thead th {\n",
       "        text-align: right;\n",
       "    }\n",
       "</style>\n",
       "<table border=\"1\" class=\"dataframe\">\n",
       "  <thead>\n",
       "    <tr style=\"text-align: right;\">\n",
       "      <th></th>\n",
       "      <th>campaign_name</th>\n",
       "      <th>start_date</th>\n",
       "      <th>end_date</th>\n",
       "      <th>budget</th>\n",
       "      <th>roi</th>\n",
       "      <th>type</th>\n",
       "      <th>target_audience</th>\n",
       "      <th>channel</th>\n",
       "      <th>conversion_rate</th>\n",
       "      <th>revenue</th>\n",
       "    </tr>\n",
       "  </thead>\n",
       "  <tbody>\n",
       "    <tr>\n",
       "      <th>0</th>\n",
       "      <td>Public-key multi-tasking throughput</td>\n",
       "      <td>2023-04-01</td>\n",
       "      <td>2024-02-23</td>\n",
       "      <td>8082.3</td>\n",
       "      <td>0.35</td>\n",
       "      <td>email</td>\n",
       "      <td>B2B</td>\n",
       "      <td>organic</td>\n",
       "      <td>0.40</td>\n",
       "      <td>709593.48</td>\n",
       "    </tr>\n",
       "    <tr>\n",
       "      <th>1</th>\n",
       "      <td>De-engineered analyzing task-force</td>\n",
       "      <td>2023-02-15</td>\n",
       "      <td>2024-04-22</td>\n",
       "      <td>17712.98</td>\n",
       "      <td>0.74</td>\n",
       "      <td>email</td>\n",
       "      <td>B2C</td>\n",
       "      <td>promotion</td>\n",
       "      <td>0.66</td>\n",
       "      <td>516609.10</td>\n",
       "    </tr>\n",
       "    <tr>\n",
       "      <th>2</th>\n",
       "      <td>Balanced solution-oriented Local Area Network</td>\n",
       "      <td>2022-12-20</td>\n",
       "      <td>2023-10-11</td>\n",
       "      <td>84643.1</td>\n",
       "      <td>0.37</td>\n",
       "      <td>podcast</td>\n",
       "      <td>B2B</td>\n",
       "      <td>paid</td>\n",
       "      <td>0.28</td>\n",
       "      <td>458227.42</td>\n",
       "    </tr>\n",
       "    <tr>\n",
       "      <th>3</th>\n",
       "      <td>Distributed real-time methodology</td>\n",
       "      <td>2022-09-26</td>\n",
       "      <td>2023-09-27</td>\n",
       "      <td>14589.75</td>\n",
       "      <td>0.47</td>\n",
       "      <td>webinar</td>\n",
       "      <td>B2B</td>\n",
       "      <td>organic</td>\n",
       "      <td>0.19</td>\n",
       "      <td>89958.73</td>\n",
       "    </tr>\n",
       "    <tr>\n",
       "      <th>4</th>\n",
       "      <td>Front-line executive infrastructure</td>\n",
       "      <td>2023-07-07</td>\n",
       "      <td>2024-05-15</td>\n",
       "      <td>39291.9</td>\n",
       "      <td>0.30</td>\n",
       "      <td>social media</td>\n",
       "      <td>B2B</td>\n",
       "      <td>promotion</td>\n",
       "      <td>0.81</td>\n",
       "      <td>47511.35</td>\n",
       "    </tr>\n",
       "  </tbody>\n",
       "</table>\n",
       "</div>"
      ],
      "text/plain": [
       "                                   campaign_name  start_date    end_date  \\\n",
       "0            Public-key multi-tasking throughput  2023-04-01  2024-02-23   \n",
       "1             De-engineered analyzing task-force  2023-02-15  2024-04-22   \n",
       "2  Balanced solution-oriented Local Area Network  2022-12-20  2023-10-11   \n",
       "3              Distributed real-time methodology  2022-09-26  2023-09-27   \n",
       "4            Front-line executive infrastructure  2023-07-07  2024-05-15   \n",
       "\n",
       "     budget   roi          type target_audience    channel  conversion_rate  \\\n",
       "0    8082.3  0.35         email             B2B    organic             0.40   \n",
       "1  17712.98  0.74         email             B2C  promotion             0.66   \n",
       "2   84643.1  0.37       podcast             B2B       paid             0.28   \n",
       "3  14589.75  0.47       webinar             B2B    organic             0.19   \n",
       "4   39291.9  0.30  social media             B2B  promotion             0.81   \n",
       "\n",
       "     revenue  \n",
       "0  709593.48  \n",
       "1  516609.10  \n",
       "2  458227.42  \n",
       "3   89958.73  \n",
       "4   47511.35  "
      ]
     },
     "execution_count": 3,
     "metadata": {},
     "output_type": "execute_result"
    }
   ],
   "source": [
    "# Display the first few rows of the DataFrame\n",
    "#This prints the first 5 rows\n",
    "clean_data.head()\n"
   ]
  },
  {
   "cell_type": "code",
   "execution_count": 4,
   "metadata": {},
   "outputs": [
    {
     "data": {
      "text/html": [
       "<div>\n",
       "<style scoped>\n",
       "    .dataframe tbody tr th:only-of-type {\n",
       "        vertical-align: middle;\n",
       "    }\n",
       "\n",
       "    .dataframe tbody tr th {\n",
       "        vertical-align: top;\n",
       "    }\n",
       "\n",
       "    .dataframe thead th {\n",
       "        text-align: right;\n",
       "    }\n",
       "</style>\n",
       "<table border=\"1\" class=\"dataframe\">\n",
       "  <thead>\n",
       "    <tr style=\"text-align: right;\">\n",
       "      <th></th>\n",
       "      <th>campaign_name</th>\n",
       "      <th>start_date</th>\n",
       "      <th>end_date</th>\n",
       "      <th>budget</th>\n",
       "      <th>roi</th>\n",
       "      <th>type</th>\n",
       "      <th>target_audience</th>\n",
       "      <th>channel</th>\n",
       "      <th>conversion_rate</th>\n",
       "      <th>revenue</th>\n",
       "    </tr>\n",
       "  </thead>\n",
       "  <tbody>\n",
       "    <tr>\n",
       "      <th>1027</th>\n",
       "      <td>No revenue campaign</td>\n",
       "      <td>2023-02-01</td>\n",
       "      <td>2023-08-01</td>\n",
       "      <td>20000</td>\n",
       "      <td>0.3</td>\n",
       "      <td>social media</td>\n",
       "      <td>B2B</td>\n",
       "      <td>organic</td>\n",
       "      <td>0.5</td>\n",
       "      <td>NaN</td>\n",
       "    </tr>\n",
       "    <tr>\n",
       "      <th>1028</th>\n",
       "      <td>Random mess</td>\n",
       "      <td>2023-06-06</td>\n",
       "      <td>NaN</td>\n",
       "      <td>100000</td>\n",
       "      <td>NaN</td>\n",
       "      <td>podcast</td>\n",
       "      <td>NaN</td>\n",
       "      <td>referral</td>\n",
       "      <td>NaN</td>\n",
       "      <td>300000.0</td>\n",
       "    </tr>\n",
       "    <tr>\n",
       "      <th>1029</th>\n",
       "      <td>Invalid budget</td>\n",
       "      <td>2022-12-01</td>\n",
       "      <td>2023-06-01</td>\n",
       "      <td>abc</td>\n",
       "      <td>NaN</td>\n",
       "      <td>email</td>\n",
       "      <td>B2C</td>\n",
       "      <td>promotion</td>\n",
       "      <td>0.2</td>\n",
       "      <td>50000.0</td>\n",
       "    </tr>\n",
       "    <tr>\n",
       "      <th>1030</th>\n",
       "      <td>Overlapping dates</td>\n",
       "      <td>2023-03-01</td>\n",
       "      <td>2022-12-31</td>\n",
       "      <td>60000</td>\n",
       "      <td>0.6</td>\n",
       "      <td>webinar</td>\n",
       "      <td>B2B</td>\n",
       "      <td>paid</td>\n",
       "      <td>0.7</td>\n",
       "      <td>90000.0</td>\n",
       "    </tr>\n",
       "    <tr>\n",
       "      <th>1031</th>\n",
       "      <td>Too many conversions</td>\n",
       "      <td>2023-05-01</td>\n",
       "      <td>2023-11-01</td>\n",
       "      <td>40000</td>\n",
       "      <td>0.8</td>\n",
       "      <td>social media</td>\n",
       "      <td>B2C</td>\n",
       "      <td>organic</td>\n",
       "      <td>1.5</td>\n",
       "      <td>120000.0</td>\n",
       "    </tr>\n",
       "  </tbody>\n",
       "</table>\n",
       "</div>"
      ],
      "text/plain": [
       "             campaign_name  start_date    end_date  budget  roi          type  \\\n",
       "1027   No revenue campaign  2023-02-01  2023-08-01   20000  0.3  social media   \n",
       "1028           Random mess  2023-06-06         NaN  100000  NaN       podcast   \n",
       "1029        Invalid budget  2022-12-01  2023-06-01     abc  NaN         email   \n",
       "1030     Overlapping dates  2023-03-01  2022-12-31   60000  0.6       webinar   \n",
       "1031  Too many conversions  2023-05-01  2023-11-01   40000  0.8  social media   \n",
       "\n",
       "     target_audience    channel  conversion_rate   revenue  \n",
       "1027             B2B    organic              0.5       NaN  \n",
       "1028             NaN   referral              NaN  300000.0  \n",
       "1029             B2C  promotion              0.2   50000.0  \n",
       "1030             B2B       paid              0.7   90000.0  \n",
       "1031             B2C    organic              1.5  120000.0  "
      ]
     },
     "execution_count": 4,
     "metadata": {},
     "output_type": "execute_result"
    }
   ],
   "source": [
    "# Display the last few rows of the DataFrame\n",
    "#This prints the last 5 rows\n",
    "clean_data.tail()"
   ]
  },
  {
   "cell_type": "code",
   "execution_count": 5,
   "metadata": {},
   "outputs": [
    {
     "name": "stdout",
     "output_type": "stream",
     "text": [
      "<class 'pandas.core.frame.DataFrame'>\n",
      "RangeIndex: 1032 entries, 0 to 1031\n",
      "Data columns (total 10 columns):\n",
      " #   Column           Non-Null Count  Dtype  \n",
      "---  ------           --------------  -----  \n",
      " 0   campaign_name    1032 non-null   object \n",
      " 1   start_date       1031 non-null   object \n",
      " 2   end_date         1030 non-null   object \n",
      " 3   budget           1029 non-null   object \n",
      " 4   roi              1028 non-null   float64\n",
      " 5   type             1031 non-null   object \n",
      " 6   target_audience  1030 non-null   object \n",
      " 7   channel          1031 non-null   object \n",
      " 8   conversion_rate  1028 non-null   float64\n",
      " 9   revenue          1029 non-null   float64\n",
      "dtypes: float64(3), object(7)\n",
      "memory usage: 80.8+ KB\n"
     ]
    }
   ],
   "source": [
    "#Dataframe info, including data types (Dtype) and its total, number of entries and total of columns\n",
    "clean_data.info()\n"
   ]
  },
  {
   "cell_type": "code",
   "execution_count": 6,
   "metadata": {},
   "outputs": [
    {
     "name": "stdout",
     "output_type": "stream",
     "text": [
      "campaign_name      0\n",
      "start_date         1\n",
      "end_date           2\n",
      "budget             3\n",
      "roi                4\n",
      "type               1\n",
      "target_audience    2\n",
      "channel            1\n",
      "conversion_rate    4\n",
      "revenue            3\n",
      "dtype: int64\n",
      "Total of empty values:  21\n",
      "Rows with at least one missing value: 11\n",
      "Number of empty rows: 0\n"
     ]
    }
   ],
   "source": [
    "#Count of empty values per column\n",
    "empty_values = clean_data.isnull().sum()\n",
    "print(empty_values)\n",
    "\n",
    "print(\"Total of empty values: \", sum(empty_values))\n",
    "\n",
    "# Rows with at least one missing value\n",
    "rows_with_missing = clean_data.isnull().any(axis=1).sum()\n",
    "print(f\"Rows with at least one missing value: {rows_with_missing}\")\n",
    "\n",
    "# Empty rows\n",
    "empty_rows = clean_data[clean_data.isnull().all(axis=1)]\n",
    "print(f\"Number of empty rows: {empty_rows.shape[0]}\")"
   ]
  },
  {
   "cell_type": "code",
   "execution_count": 7,
   "metadata": {},
   "outputs": [
    {
     "name": "stdout",
     "output_type": "stream",
     "text": [
      "campaign_name      0.000000\n",
      "start_date         0.096899\n",
      "end_date           0.193798\n",
      "budget             0.290698\n",
      "roi                0.387597\n",
      "type               0.096899\n",
      "target_audience    0.193798\n",
      "channel            0.096899\n",
      "conversion_rate    0.387597\n",
      "revenue            0.290698\n",
      "dtype: float64\n"
     ]
    }
   ],
   "source": [
    "#Percentage of empty values per column\n",
    "empty_values_percentage = (empty_values / len(clean_data)) * 100\n",
    "print(empty_values_percentage)"
   ]
  },
  {
   "cell_type": "code",
   "execution_count": 8,
   "metadata": {},
   "outputs": [
    {
     "name": "stdout",
     "output_type": "stream",
     "text": [
      "\n",
      "Unique values in type:\n",
      "['email' 'podcast' 'webinar' 'social media' nan 'event' 'B2B']\n",
      "\n",
      "Unique values in target_audience:\n",
      "['B2B' 'B2C' 'social media' nan]\n",
      "\n",
      "Unique values in channel:\n",
      "['organic' 'promotion' 'paid' 'referral' nan]\n"
     ]
    }
   ],
   "source": [
    "# Review unique values in categorical columns\n",
    "cat_cols = ['type', 'target_audience', 'channel']\n",
    "for col in cat_cols:\n",
    "    print(f\"\\nUnique values in {col}:\")\n",
    "    print(clean_data[col].unique())"
   ]
  },
  {
   "cell_type": "code",
   "execution_count": 9,
   "metadata": {},
   "outputs": [
    {
     "data": {
      "text/html": [
       "<div>\n",
       "<style scoped>\n",
       "    .dataframe tbody tr th:only-of-type {\n",
       "        vertical-align: middle;\n",
       "    }\n",
       "\n",
       "    .dataframe tbody tr th {\n",
       "        vertical-align: top;\n",
       "    }\n",
       "\n",
       "    .dataframe thead th {\n",
       "        text-align: right;\n",
       "    }\n",
       "</style>\n",
       "<table border=\"1\" class=\"dataframe\">\n",
       "  <thead>\n",
       "    <tr style=\"text-align: right;\">\n",
       "      <th></th>\n",
       "      <th>roi</th>\n",
       "      <th>conversion_rate</th>\n",
       "      <th>revenue</th>\n",
       "    </tr>\n",
       "  </thead>\n",
       "  <tbody>\n",
       "    <tr>\n",
       "      <th>count</th>\n",
       "      <td>1028.000000</td>\n",
       "      <td>1028.000000</td>\n",
       "      <td>1029.000000</td>\n",
       "    </tr>\n",
       "    <tr>\n",
       "      <th>mean</th>\n",
       "      <td>0.533804</td>\n",
       "      <td>0.541936</td>\n",
       "      <td>511591.195277</td>\n",
       "    </tr>\n",
       "    <tr>\n",
       "      <th>std</th>\n",
       "      <td>0.261869</td>\n",
       "      <td>0.267353</td>\n",
       "      <td>287292.729847</td>\n",
       "    </tr>\n",
       "    <tr>\n",
       "      <th>min</th>\n",
       "      <td>-0.200000</td>\n",
       "      <td>0.000000</td>\n",
       "      <td>108.210000</td>\n",
       "    </tr>\n",
       "    <tr>\n",
       "      <th>25%</th>\n",
       "      <td>0.310000</td>\n",
       "      <td>0.300000</td>\n",
       "      <td>267820.250000</td>\n",
       "    </tr>\n",
       "    <tr>\n",
       "      <th>50%</th>\n",
       "      <td>0.530000</td>\n",
       "      <td>0.550000</td>\n",
       "      <td>518001.770000</td>\n",
       "    </tr>\n",
       "    <tr>\n",
       "      <th>75%</th>\n",
       "      <td>0.760000</td>\n",
       "      <td>0.770000</td>\n",
       "      <td>765775.140000</td>\n",
       "    </tr>\n",
       "    <tr>\n",
       "      <th>max</th>\n",
       "      <td>0.990000</td>\n",
       "      <td>1.500000</td>\n",
       "      <td>999712.490000</td>\n",
       "    </tr>\n",
       "  </tbody>\n",
       "</table>\n",
       "</div>"
      ],
      "text/plain": [
       "               roi  conversion_rate        revenue\n",
       "count  1028.000000      1028.000000    1029.000000\n",
       "mean      0.533804         0.541936  511591.195277\n",
       "std       0.261869         0.267353  287292.729847\n",
       "min      -0.200000         0.000000     108.210000\n",
       "25%       0.310000         0.300000  267820.250000\n",
       "50%       0.530000         0.550000  518001.770000\n",
       "75%       0.760000         0.770000  765775.140000\n",
       "max       0.990000         1.500000  999712.490000"
      ]
     },
     "execution_count": 9,
     "metadata": {},
     "output_type": "execute_result"
    }
   ],
   "source": [
    "# Descriptive statistics and possible outliers\n",
    "clean_data.describe()\n"
   ]
  },
  {
   "cell_type": "markdown",
   "metadata": {},
   "source": [
    "## Data Issues Identified\n",
    "\n",
    "During data preprocessing, the following data quality issues were found:\n",
    "\n",
    "1. **Rows with Incorrect Number of Columns**  \n",
    "    - Some rows in the raw CSV did not match the expected number of columns and were excluded.\n",
    "\n",
    "2. **Missing Values**  \n",
    "    - Several columns contained missing values, including `start_date`, `end_date`, `budget`, `roi`, `type`, `target_audience`, `channel`, `conversion_rate`, and `revenue`.\n",
    "\n",
    "3. **Invalid (Non-numeric) Values in Numeric Columns**  \n",
    "    - Non-numeric values were present in columns expected to be numeric, such as `budget`, `conversion_rate`, `revenue`, and `roi`.\n",
    "\n",
    "4. **Incorrect Column Data Type**  \n",
    "    - Columns like `budget` is expected to be float instead of object.\n",
    "\n",
    "5. **Empty Values**  \n",
    "    - Empty values were found in all columns except `campaign_name`.\n",
    "\n",
    "6. **Unexpected Categorical Values**  \n",
    "    - The `type` and `target_audience` columns contained values outside the expected categories or possible misplacements.\n",
    "\n",
    "7. **Outliers**  \n",
    "    - Outliers were present in numeric columns, especially in `conversion_rate` (values > 100%) and `revenue` (values much higher than average).\n"
   ]
  },
  {
   "cell_type": "markdown",
   "metadata": {},
   "source": [
    "## Cleaning Process"
   ]
  },
  {
   "cell_type": "markdown",
   "metadata": {},
   "source": [
    "Checked the row where `type` is 'B2B' and `target_audience` is 'socialmedia'.  \n",
    "**Resolution:** This row was dropped from the dataset because it is mostly null, with many missing values, and is not relevant for analysis."
   ]
  },
  {
   "cell_type": "code",
   "execution_count": 10,
   "metadata": {},
   "outputs": [
    {
     "name": "stdout",
     "output_type": "stream",
     "text": [
      "            campaign_name  start_date end_date budget  roi type  \\\n",
      "1024  Null-heavy campaign  2023-01-01      NaN    NaN  NaN  B2B   \n",
      "\n",
      "     target_audience channel  conversion_rate  revenue  \n",
      "1024    social media     NaN              NaN      NaN  \n"
     ]
    }
   ],
   "source": [
    "# Print all rows where type is 'B2B' or target_audience is 'socialmedia'\n",
    "misplaced_rows = clean_data[\n",
    "    (clean_data['type'] == 'B2B') | (clean_data['target_audience'] == 'social media')\n",
    "]\n",
    "print(misplaced_rows)\n",
    "\n",
    "# Drop the misplaced rows\n",
    "clean_data = clean_data[\n",
    "    ~((clean_data['type'] == 'B2B') & (clean_data['target_audience'] == 'social media'))\n",
    "]"
   ]
  },
  {
   "cell_type": "markdown",
   "metadata": {},
   "source": [
    "`roi` values were recalculated for rows where both `revenue` and `budget` were present and valid, ensuring that missing or invalid `roi` entries were accurately filled using the formula: (`revenue` - `budget`) / `budget`. To enable this, the `budget` column was converted from object to float, and rows with non-numeric or missing `budget` or `revenue` values were removed prior to calculation. This ensures all ROI values are based on valid, clean numeric data."
   ]
  },
  {
   "cell_type": "code",
   "execution_count": 11,
   "metadata": {},
   "outputs": [
    {
     "name": "stdout",
     "output_type": "stream",
     "text": [
      "budget column is now: float64\n"
     ]
    }
   ],
   "source": [
    "# Convert 'budget' to numeric, setting errors='coerce' will turn invalid values (like 'abc') into NaN\n",
    "clean_data['budget'] = pd.to_numeric(clean_data['budget'], errors='coerce')\n",
    "\n",
    "# Check 'budget' data type after conversion\n",
    "print(f\"budget column is now: {clean_data['budget'].dtype}\")"
   ]
  },
  {
   "cell_type": "code",
   "execution_count": 12,
   "metadata": {},
   "outputs": [
    {
     "name": "stdout",
     "output_type": "stream",
     "text": [
      "Rows where ROI can be calculated: 2\n",
      "       revenue    budget  roi\n",
      "1021  120000.0   50000.0  NaN\n",
      "1028  300000.0  100000.0  NaN\n"
     ]
    }
   ],
   "source": [
    "# Find rows where ROI is missing, but revenue and budget are present\n",
    "mask = clean_data['roi'].isnull() & clean_data['revenue'].notnull() & clean_data['budget'].notnull()\n",
    "rows_to_calculate = clean_data[mask]\n",
    "\n",
    "print(f\"Rows where ROI can be calculated: {len(rows_to_calculate)}\")\n",
    "print(rows_to_calculate[['revenue', 'budget', 'roi']])\n",
    "\n",
    "# Now, calculate ROI for rows where it's missing but revenue and budget are present\n",
    "mask = clean_data['roi'].isnull() & clean_data['revenue'].notnull() & clean_data['budget'].notnull()\n",
    "clean_data.loc[mask, 'roi'] = (clean_data.loc[mask, 'revenue'] - clean_data.loc[mask, 'budget']) / clean_data.loc[mask, 'budget']"
   ]
  },
  {
   "cell_type": "code",
   "execution_count": 13,
   "metadata": {},
   "outputs": [
    {
     "name": "stdout",
     "output_type": "stream",
     "text": [
      "Missing ROI values after calculation: 1\n"
     ]
    }
   ],
   "source": [
    "# Check if there are still missing values in 'roi'\n",
    "missing_roi = clean_data['roi'].isnull().sum()\n",
    "print(f\"Missing ROI values after calculation: {missing_roi}\")"
   ]
  },
  {
   "cell_type": "markdown",
   "metadata": {},
   "source": [
    "Rows with missing, invalid, or nonsensical dates (such as a `start_date` after `end_date`) were removed. All date fields were standardized to the `yyyy-mm-dd` format to ensure consistency and reliability for time-based analyses. This process improves data quality and ensures accurate temporal comparisons."
   ]
  },
  {
   "cell_type": "code",
   "execution_count": 14,
   "metadata": {},
   "outputs": [
    {
     "name": "stdout",
     "output_type": "stream",
     "text": [
      "Invalid date ranges (start date after end date):       start_date    end_date\n",
      "1030  2023-03-01  2022-12-31\n"
     ]
    }
   ],
   "source": [
    "# Print rows where start date is after end date\n",
    "invalid_date_range = clean_data[clean_data['start_date'] > clean_data['end_date']]\n",
    "print(f\"Invalid date ranges (start date after end date): {invalid_date_range[['start_date', 'end_date']]}\")\n"
   ]
  },
  {
   "cell_type": "code",
   "execution_count": 15,
   "metadata": {},
   "outputs": [],
   "source": [
    "# Convert start_date and end_date to datetime, invalid parsing will become NaT (missing)\n",
    "clean_data['start_date'] = pd.to_datetime(clean_data['start_date'], errors='coerce')\n",
    "clean_data['end_date'] = pd.to_datetime(clean_data['end_date'], errors='coerce')\n",
    "\n",
    "# Remove rows where either start_date or end_date is missing or invalid\n",
    "clean_data = clean_data.dropna(subset=['start_date', 'end_date'])\n",
    "\n",
    "# Find and remove rows where start_date is after end_date (nonsensical date ranges)\n",
    "clean_data = clean_data[clean_data['start_date'] <= clean_data['end_date']]\n",
    "\n",
    "# Format dates as yyyy-mm-dd strings for consistency\n",
    "clean_data['start_date'] = clean_data['start_date'].dt.strftime('%Y-%m-%d')\n",
    "clean_data['end_date'] = clean_data['end_date'].dt.strftime('%Y-%m-%d')"
   ]
  },
  {
   "cell_type": "markdown",
   "metadata": {},
   "source": [
    "Checked whether any values in the float columns (`budget`, `roi`, `conversion_rate`, `revenue`) contain a comma (`,`), which could indicate improper formatting or parsing issues. This helps ensure all numeric data is correctly recognized for analysis."
   ]
  },
  {
   "cell_type": "code",
   "execution_count": 16,
   "metadata": {},
   "outputs": [
    {
     "name": "stdout",
     "output_type": "stream",
     "text": [
      "Column 'budget' has values with commas: False\n",
      "Column 'roi' has values with commas: False\n",
      "Column 'conversion_rate' has values with commas: False\n",
      "Column 'revenue' has values with commas: False\n"
     ]
    }
   ],
   "source": [
    "# List of float columns to check\n",
    "float_cols = ['budget', 'roi', 'conversion_rate', 'revenue']\n",
    "\n",
    "for col in float_cols:\n",
    "    # Convert to string and check for commas\n",
    "    has_comma = clean_data[col].astype(str).str.contains(',', na=False).any()\n",
    "    print(f\"Column '{col}' has values with commas: {has_comma}\")\n",
    "    \n",
    "    # Optionally, display some examples\n",
    "    if has_comma:\n",
    "        print(f\"Examples from '{col}' with commas:\")\n",
    "        print(clean_data[clean_data[col].astype(str).str.contains(',', na=False)][col].head())"
   ]
  },
  {
   "cell_type": "markdown",
   "metadata": {},
   "source": [
    "Missing values in the 'type' and 'target_audience' columns were filled with 'Unknown' to maintain data integrity without introducing potentially misleading assumptions."
   ]
  },
  {
   "cell_type": "code",
   "execution_count": 17,
   "metadata": {},
   "outputs": [],
   "source": [
    "# Fill missing values in 'type' and 'target_audience' with 'Unknown' to avoid introducing artificial categories\n",
    "clean_data['type'] = clean_data['type'].fillna('Unknown')\n",
    "clean_data['target_audience'] = clean_data['target_audience'].fillna('Unknown')"
   ]
  },
  {
   "cell_type": "code",
   "execution_count": 18,
   "metadata": {},
   "outputs": [],
   "source": [
    "# Drop rows with remaining missing values\n",
    "clean_data = clean_data.dropna()"
   ]
  },
  {
   "cell_type": "code",
   "execution_count": 19,
   "metadata": {},
   "outputs": [
    {
     "name": "stdout",
     "output_type": "stream",
     "text": [
      "campaign_name       object\n",
      "start_date          object\n",
      "end_date            object\n",
      "budget             float64\n",
      "roi                float64\n",
      "type                object\n",
      "target_audience     object\n",
      "channel             object\n",
      "conversion_rate    float64\n",
      "revenue            float64\n",
      "dtype: object\n",
      "campaign_name      0\n",
      "start_date         0\n",
      "end_date           0\n",
      "budget             0\n",
      "roi                0\n",
      "type               0\n",
      "target_audience    0\n",
      "channel            0\n",
      "conversion_rate    0\n",
      "revenue            0\n",
      "dtype: int64\n"
     ]
    }
   ],
   "source": [
    "# Progress: no missing values or invalid data types\n",
    "\n",
    "# Check data types\n",
    "print(clean_data.dtypes)\n",
    "\n",
    "# Check for missing values in each column\n",
    "print(clean_data.isnull().sum())"
   ]
  },
  {
   "cell_type": "code",
   "execution_count": 20,
   "metadata": {},
   "outputs": [
    {
     "name": "stdout",
     "output_type": "stream",
     "text": [
      "             budget          roi  conversion_rate        revenue\n",
      "count  1.021000e+03  1021.000000      1021.000000    1021.000000\n",
      "mean   5.911153e+04     0.534878         0.542351  514061.251548\n",
      "std    3.127481e+05     0.261452         0.267276  286658.491608\n",
      "min    1.052570e+03     0.000000         0.000000     108.210000\n",
      "25%    2.476960e+04     0.310000         0.300000  268528.690000\n",
      "50%    4.691995e+04     0.530000         0.550000  520022.100000\n",
      "75%    7.500000e+04     0.760000         0.770000  768567.700000\n",
      "max    9.999999e+06     0.990000         1.500000  999712.490000\n"
     ]
    }
   ],
   "source": [
    "# Get summary statistics for float columns\n",
    "# This shows count, mean, std, min, 25%, 50%, 75%, max\n",
    "# This will also include the 'budget' column, now numeric\n",
    "\n",
    "print(clean_data.describe())"
   ]
  },
  {
   "cell_type": "code",
   "execution_count": 21,
   "metadata": {},
   "outputs": [
    {
     "name": "stdout",
     "output_type": "stream",
     "text": [
      "\n",
      "Outliers in budget:\n",
      "         budget\n",
      "1008  9999999.0\n",
      "\n",
      "Outliers in roi:\n",
      "Empty DataFrame\n",
      "Columns: [roi]\n",
      "Index: []\n",
      "\n",
      "Outliers in conversion_rate:\n",
      "      conversion_rate\n",
      "1031              1.5\n",
      "\n",
      "Outliers in revenue:\n",
      "Empty DataFrame\n",
      "Columns: [revenue]\n",
      "Index: []\n"
     ]
    }
   ],
   "source": [
    "# Use IQR to detect outliers for each float column\n",
    "for col in float_cols:\n",
    "    Q1 = clean_data[col].quantile(0.25)\n",
    "    Q3 = clean_data[col].quantile(0.75)\n",
    "    IQR = Q3 - Q1\n",
    "    outliers = clean_data[(clean_data[col] < Q1 - 1.5 * IQR) | (clean_data[col] > Q3 + 1.5 * IQR)]\n",
    "    print(f\"\\nOutliers in {col}:\")\n",
    "    print(outliers[[col]])\n",
    "    "
   ]
  },
  {
   "cell_type": "code",
   "execution_count": 22,
   "metadata": {},
   "outputs": [
    {
     "name": "stdout",
     "output_type": "stream",
     "text": [
      "   start_date    end_date\n",
      "0  2023-04-01  2024-02-23\n",
      "1  2023-02-15  2024-04-22\n",
      "2  2022-12-20  2023-10-11\n",
      "3  2022-09-26  2023-09-27\n",
      "4  2023-07-07  2024-05-15\n"
     ]
    }
   ],
   "source": [
    "# Ensure dates are in correct format and order\n",
    "print(clean_data[['start_date', 'end_date']].head())"
   ]
  },
  {
   "cell_type": "code",
   "execution_count": 23,
   "metadata": {},
   "outputs": [
    {
     "name": "stdout",
     "output_type": "stream",
     "text": [
      "Number of exact duplicate rows: 27\n",
      "                                      campaign_name  start_date    end_date  \\\n",
      "0               Public-key multi-tasking throughput  2023-04-01  2024-02-23   \n",
      "1                De-engineered analyzing task-force  2023-02-15  2024-04-22   \n",
      "2     Balanced solution-oriented Local Area Network  2022-12-20  2023-10-11   \n",
      "3                 Distributed real-time methodology  2022-09-26  2023-09-27   \n",
      "4               Front-line executive infrastructure  2023-07-07  2024-05-15   \n",
      "5            Upgradable transitional data-warehouse  2023-06-29  2023-12-13   \n",
      "6            Innovative context-sensitive framework  2023-03-01  2024-02-23   \n",
      "7          User-friendly client-driven service-desk  2023-01-06  2023-12-11   \n",
      "8                     Proactive neutral methodology  2022-09-06  2024-01-11   \n",
      "9                      Intuitive responsive support  2022-11-25  2024-04-04   \n",
      "10                Multi-lateral dedicated workforce  2023-06-15  2024-06-15   \n",
      "11            Cross-platform demand-driven encoding  2023-07-21  2023-11-04   \n",
      "1000            Public-key multi-tasking throughput  2023-04-01  2024-02-23   \n",
      "1001  Balanced solution-oriented Local Area Network  2022-12-20  2023-10-11   \n",
      "1002              Distributed real-time methodology  2022-09-26  2023-09-27   \n",
      "1009            Public-key multi-tasking throughput  2023-04-01  2024-02-23   \n",
      "1010             De-engineered analyzing task-force  2023-02-15  2024-04-22   \n",
      "1011  Balanced solution-oriented Local Area Network  2022-12-20  2023-10-11   \n",
      "1012              Distributed real-time methodology  2022-09-26  2023-09-27   \n",
      "1013            Front-line executive infrastructure  2023-07-07  2024-05-15   \n",
      "1014         Upgradable transitional data-warehouse  2023-06-29  2023-12-13   \n",
      "1015         Innovative context-sensitive framework  2023-03-01  2024-02-23   \n",
      "1016       User-friendly client-driven service-desk  2023-01-06  2023-12-11   \n",
      "1017                  Proactive neutral methodology  2022-09-06  2024-01-11   \n",
      "1018                   Intuitive responsive support  2022-11-25  2024-04-04   \n",
      "1019              Multi-lateral dedicated workforce  2023-06-15  2024-06-15   \n",
      "1020          Cross-platform demand-driven encoding  2023-07-21  2023-11-04   \n",
      "\n",
      "        budget   roi          type target_audience    channel  \\\n",
      "0      8082.30  0.35         email             B2B    organic   \n",
      "1     17712.98  0.74         email             B2C  promotion   \n",
      "2     84643.10  0.37       podcast             B2B       paid   \n",
      "3     14589.75  0.47       webinar             B2B    organic   \n",
      "4     39291.90  0.30  social media             B2B  promotion   \n",
      "5     75569.28  0.59  social media             B2C   referral   \n",
      "6     28964.45  0.59         email             B2C   referral   \n",
      "7     36800.58  0.40       webinar             B2C  promotion   \n",
      "8     40493.88  0.16       webinar             B2C    organic   \n",
      "9      1816.22  0.81  social media             B2C   referral   \n",
      "10    94084.21  0.58       podcast             B2B   referral   \n",
      "11    64041.37  0.16  social media             B2B  promotion   \n",
      "1000   8082.30  0.35         email             B2B    organic   \n",
      "1001  84643.10  0.37       podcast             B2B       paid   \n",
      "1002  14589.75  0.47       webinar             B2B    organic   \n",
      "1009   8082.30  0.35         email             B2B    organic   \n",
      "1010  17712.98  0.74         email             B2C  promotion   \n",
      "1011  84643.10  0.37       podcast             B2B       paid   \n",
      "1012  14589.75  0.47       webinar             B2B    organic   \n",
      "1013  39291.90  0.30  social media             B2B  promotion   \n",
      "1014  75569.28  0.59  social media             B2C   referral   \n",
      "1015  28964.45  0.59         email             B2C   referral   \n",
      "1016  36800.58  0.40       webinar             B2C  promotion   \n",
      "1017  40493.88  0.16       webinar             B2C    organic   \n",
      "1018   1816.22  0.81  social media             B2C   referral   \n",
      "1019  94084.21  0.58       podcast             B2B   referral   \n",
      "1020  64041.37  0.16  social media             B2B  promotion   \n",
      "\n",
      "      conversion_rate    revenue  \n",
      "0                0.40  709593.48  \n",
      "1                0.66  516609.10  \n",
      "2                0.28  458227.42  \n",
      "3                0.19   89958.73  \n",
      "4                0.81   47511.35  \n",
      "5                0.67  558302.11  \n",
      "6                0.17  172882.59  \n",
      "7                0.52  206241.46  \n",
      "8                0.47  734755.76  \n",
      "9                0.85  563280.30  \n",
      "10               0.23  406522.77  \n",
      "11               0.55  174462.47  \n",
      "1000             0.40  709593.48  \n",
      "1001             0.28  458227.42  \n",
      "1002             0.19   89958.73  \n",
      "1009             0.40  709593.48  \n",
      "1010             0.66  516609.10  \n",
      "1011             0.28  458227.42  \n",
      "1012             0.19   89958.73  \n",
      "1013             0.81   47511.35  \n",
      "1014             0.67  558302.11  \n",
      "1015             0.17  172882.59  \n",
      "1016             0.52  206241.46  \n",
      "1017             0.47  734755.76  \n",
      "1018             0.85  563280.30  \n",
      "1019             0.23  406522.77  \n",
      "1020             0.55  174462.47  \n"
     ]
    }
   ],
   "source": [
    "# Find all exact duplicate rows (excluding the first occurrence)\n",
    "duplicates = clean_data[clean_data.duplicated(keep=False)]\n",
    "\n",
    "print(f\"Number of exact duplicate rows: {duplicates.shape[0]}\")\n",
    "print(duplicates)\n",
    "\n"
   ]
  }
 ],
 "metadata": {
  "kernelspec": {
   "display_name": "m1projectenv",
   "language": "python",
   "name": "python3"
  },
  "language_info": {
   "codemirror_mode": {
    "name": "ipython",
    "version": 3
   },
   "file_extension": ".py",
   "mimetype": "text/x-python",
   "name": "python",
   "nbconvert_exporter": "python",
   "pygments_lexer": "ipython3",
   "version": "3.13.2"
  }
 },
 "nbformat": 4,
 "nbformat_minor": 2
}
