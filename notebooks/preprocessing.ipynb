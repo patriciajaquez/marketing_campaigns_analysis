{
 "cells": [
  {
   "cell_type": "markdown",
   "metadata": {},
   "source": [
    "# DATA PREPROCESSING"
   ]
  },
  {
   "cell_type": "code",
   "execution_count": 373,
   "metadata": {},
   "outputs": [],
   "source": [
    "#Library Imports\n",
    "import pandas as pd\n",
    "import matplotlib.pyplot as plt\n",
    "import seaborn as sns\n",
    "import numpy as np\n",
    "import os\n",
    "import csv\n",
    "import scipy\n",
    "from datetime import datetime\n",
    "from io import StringIO\n"
   ]
  },
  {
   "cell_type": "markdown",
   "metadata": {},
   "source": [
    "### Data Loading Decision\n",
    "\n",
    "For this project, only rows from the CSV file with the exact expected number of columns (10) were loaded. This ensures structural consistency and prevents issues from malformed or incomplete rows due to data entry errors or formatting inconsistencies. By filtering out rows with missing or extra columns at the preprocessing stage, the analysis is based on reliable data, reducing the risk of misaligned fields and maintaining data integrity throughout the workflow. This decision supports transparency and reproducibility in the data cleaning process.\n",
    "\n",
    "**Skipped rows due to column mismatch:**  \n",
    "- Line 1003: expected 10 fields, saw 11  \n",
    "- Line 1006: expected 10 fields, saw 12  \n",
    "- Line 1008: expected 10 fields, saw 11  \n",
    "- Line 1012: expected 10 fields, saw 11  \n",
    "- Line 1014: expected 10 fields, saw 13"
   ]
  },
  {
   "cell_type": "code",
   "execution_count": 374,
   "metadata": {},
   "outputs": [],
   "source": [
    "# Load the CSV file\n",
    "# Read the CSV, keeping all rows as raw text\n",
    "input_path = \"/Users/patriciajaquez/Documents/GitHub/module1_project/data/raw/marketingcampaigns.csv\"\n",
    "rows = []\n",
    "expected_columns = 10\n",
    "\n",
    "with open(input_path, 'r', encoding='utf-8') as infile:\n",
    "    for line in infile:\n",
    "        if len(line.strip().split(',')) == expected_columns:\n",
    "            rows.append(line)\n",
    "\n",
    "# Join the clean rows and load into pandas\n",
    "clean_data = pd.read_csv(StringIO(''.join(rows)))"
   ]
  },
  {
   "cell_type": "code",
   "execution_count": 375,
   "metadata": {},
   "outputs": [
    {
     "data": {
      "text/html": [
       "<div>\n",
       "<style scoped>\n",
       "    .dataframe tbody tr th:only-of-type {\n",
       "        vertical-align: middle;\n",
       "    }\n",
       "\n",
       "    .dataframe tbody tr th {\n",
       "        vertical-align: top;\n",
       "    }\n",
       "\n",
       "    .dataframe thead th {\n",
       "        text-align: right;\n",
       "    }\n",
       "</style>\n",
       "<table border=\"1\" class=\"dataframe\">\n",
       "  <thead>\n",
       "    <tr style=\"text-align: right;\">\n",
       "      <th></th>\n",
       "      <th>campaign_name</th>\n",
       "      <th>start_date</th>\n",
       "      <th>end_date</th>\n",
       "      <th>budget</th>\n",
       "      <th>roi</th>\n",
       "      <th>type</th>\n",
       "      <th>target_audience</th>\n",
       "      <th>channel</th>\n",
       "      <th>conversion_rate</th>\n",
       "      <th>revenue</th>\n",
       "    </tr>\n",
       "  </thead>\n",
       "  <tbody>\n",
       "    <tr>\n",
       "      <th>0</th>\n",
       "      <td>Public-key multi-tasking throughput</td>\n",
       "      <td>2023-04-01</td>\n",
       "      <td>2024-02-23</td>\n",
       "      <td>8082.3</td>\n",
       "      <td>0.35</td>\n",
       "      <td>email</td>\n",
       "      <td>B2B</td>\n",
       "      <td>organic</td>\n",
       "      <td>0.40</td>\n",
       "      <td>709593.48</td>\n",
       "    </tr>\n",
       "    <tr>\n",
       "      <th>1</th>\n",
       "      <td>De-engineered analyzing task-force</td>\n",
       "      <td>2023-02-15</td>\n",
       "      <td>2024-04-22</td>\n",
       "      <td>17712.98</td>\n",
       "      <td>0.74</td>\n",
       "      <td>email</td>\n",
       "      <td>B2C</td>\n",
       "      <td>promotion</td>\n",
       "      <td>0.66</td>\n",
       "      <td>516609.10</td>\n",
       "    </tr>\n",
       "    <tr>\n",
       "      <th>2</th>\n",
       "      <td>Balanced solution-oriented Local Area Network</td>\n",
       "      <td>2022-12-20</td>\n",
       "      <td>2023-10-11</td>\n",
       "      <td>84643.1</td>\n",
       "      <td>0.37</td>\n",
       "      <td>podcast</td>\n",
       "      <td>B2B</td>\n",
       "      <td>paid</td>\n",
       "      <td>0.28</td>\n",
       "      <td>458227.42</td>\n",
       "    </tr>\n",
       "    <tr>\n",
       "      <th>3</th>\n",
       "      <td>Distributed real-time methodology</td>\n",
       "      <td>2022-09-26</td>\n",
       "      <td>2023-09-27</td>\n",
       "      <td>14589.75</td>\n",
       "      <td>0.47</td>\n",
       "      <td>webinar</td>\n",
       "      <td>B2B</td>\n",
       "      <td>organic</td>\n",
       "      <td>0.19</td>\n",
       "      <td>89958.73</td>\n",
       "    </tr>\n",
       "    <tr>\n",
       "      <th>4</th>\n",
       "      <td>Front-line executive infrastructure</td>\n",
       "      <td>2023-07-07</td>\n",
       "      <td>2024-05-15</td>\n",
       "      <td>39291.9</td>\n",
       "      <td>0.30</td>\n",
       "      <td>social media</td>\n",
       "      <td>B2B</td>\n",
       "      <td>promotion</td>\n",
       "      <td>0.81</td>\n",
       "      <td>47511.35</td>\n",
       "    </tr>\n",
       "  </tbody>\n",
       "</table>\n",
       "</div>"
      ],
      "text/plain": [
       "                                   campaign_name  start_date    end_date  \\\n",
       "0            Public-key multi-tasking throughput  2023-04-01  2024-02-23   \n",
       "1             De-engineered analyzing task-force  2023-02-15  2024-04-22   \n",
       "2  Balanced solution-oriented Local Area Network  2022-12-20  2023-10-11   \n",
       "3              Distributed real-time methodology  2022-09-26  2023-09-27   \n",
       "4            Front-line executive infrastructure  2023-07-07  2024-05-15   \n",
       "\n",
       "     budget   roi          type target_audience    channel  conversion_rate  \\\n",
       "0    8082.3  0.35         email             B2B    organic             0.40   \n",
       "1  17712.98  0.74         email             B2C  promotion             0.66   \n",
       "2   84643.1  0.37       podcast             B2B       paid             0.28   \n",
       "3  14589.75  0.47       webinar             B2B    organic             0.19   \n",
       "4   39291.9  0.30  social media             B2B  promotion             0.81   \n",
       "\n",
       "     revenue  \n",
       "0  709593.48  \n",
       "1  516609.10  \n",
       "2  458227.42  \n",
       "3   89958.73  \n",
       "4   47511.35  "
      ]
     },
     "execution_count": 375,
     "metadata": {},
     "output_type": "execute_result"
    }
   ],
   "source": [
    "# Display the first few rows of the DataFrame\n",
    "#This prints the first 5 rows\n",
    "clean_data.head()\n"
   ]
  },
  {
   "cell_type": "code",
   "execution_count": 376,
   "metadata": {},
   "outputs": [
    {
     "data": {
      "text/html": [
       "<div>\n",
       "<style scoped>\n",
       "    .dataframe tbody tr th:only-of-type {\n",
       "        vertical-align: middle;\n",
       "    }\n",
       "\n",
       "    .dataframe tbody tr th {\n",
       "        vertical-align: top;\n",
       "    }\n",
       "\n",
       "    .dataframe thead th {\n",
       "        text-align: right;\n",
       "    }\n",
       "</style>\n",
       "<table border=\"1\" class=\"dataframe\">\n",
       "  <thead>\n",
       "    <tr style=\"text-align: right;\">\n",
       "      <th></th>\n",
       "      <th>campaign_name</th>\n",
       "      <th>start_date</th>\n",
       "      <th>end_date</th>\n",
       "      <th>budget</th>\n",
       "      <th>roi</th>\n",
       "      <th>type</th>\n",
       "      <th>target_audience</th>\n",
       "      <th>channel</th>\n",
       "      <th>conversion_rate</th>\n",
       "      <th>revenue</th>\n",
       "    </tr>\n",
       "  </thead>\n",
       "  <tbody>\n",
       "    <tr>\n",
       "      <th>1027</th>\n",
       "      <td>No revenue campaign</td>\n",
       "      <td>2023-02-01</td>\n",
       "      <td>2023-08-01</td>\n",
       "      <td>20000</td>\n",
       "      <td>0.3</td>\n",
       "      <td>social media</td>\n",
       "      <td>B2B</td>\n",
       "      <td>organic</td>\n",
       "      <td>0.5</td>\n",
       "      <td>NaN</td>\n",
       "    </tr>\n",
       "    <tr>\n",
       "      <th>1028</th>\n",
       "      <td>Random mess</td>\n",
       "      <td>2023-06-06</td>\n",
       "      <td>NaN</td>\n",
       "      <td>100000</td>\n",
       "      <td>NaN</td>\n",
       "      <td>podcast</td>\n",
       "      <td>NaN</td>\n",
       "      <td>referral</td>\n",
       "      <td>NaN</td>\n",
       "      <td>300000.0</td>\n",
       "    </tr>\n",
       "    <tr>\n",
       "      <th>1029</th>\n",
       "      <td>Invalid budget</td>\n",
       "      <td>2022-12-01</td>\n",
       "      <td>2023-06-01</td>\n",
       "      <td>abc</td>\n",
       "      <td>NaN</td>\n",
       "      <td>email</td>\n",
       "      <td>B2C</td>\n",
       "      <td>promotion</td>\n",
       "      <td>0.2</td>\n",
       "      <td>50000.0</td>\n",
       "    </tr>\n",
       "    <tr>\n",
       "      <th>1030</th>\n",
       "      <td>Overlapping dates</td>\n",
       "      <td>2023-03-01</td>\n",
       "      <td>2022-12-31</td>\n",
       "      <td>60000</td>\n",
       "      <td>0.6</td>\n",
       "      <td>webinar</td>\n",
       "      <td>B2B</td>\n",
       "      <td>paid</td>\n",
       "      <td>0.7</td>\n",
       "      <td>90000.0</td>\n",
       "    </tr>\n",
       "    <tr>\n",
       "      <th>1031</th>\n",
       "      <td>Too many conversions</td>\n",
       "      <td>2023-05-01</td>\n",
       "      <td>2023-11-01</td>\n",
       "      <td>40000</td>\n",
       "      <td>0.8</td>\n",
       "      <td>social media</td>\n",
       "      <td>B2C</td>\n",
       "      <td>organic</td>\n",
       "      <td>1.5</td>\n",
       "      <td>120000.0</td>\n",
       "    </tr>\n",
       "  </tbody>\n",
       "</table>\n",
       "</div>"
      ],
      "text/plain": [
       "             campaign_name  start_date    end_date  budget  roi          type  \\\n",
       "1027   No revenue campaign  2023-02-01  2023-08-01   20000  0.3  social media   \n",
       "1028           Random mess  2023-06-06         NaN  100000  NaN       podcast   \n",
       "1029        Invalid budget  2022-12-01  2023-06-01     abc  NaN         email   \n",
       "1030     Overlapping dates  2023-03-01  2022-12-31   60000  0.6       webinar   \n",
       "1031  Too many conversions  2023-05-01  2023-11-01   40000  0.8  social media   \n",
       "\n",
       "     target_audience    channel  conversion_rate   revenue  \n",
       "1027             B2B    organic              0.5       NaN  \n",
       "1028             NaN   referral              NaN  300000.0  \n",
       "1029             B2C  promotion              0.2   50000.0  \n",
       "1030             B2B       paid              0.7   90000.0  \n",
       "1031             B2C    organic              1.5  120000.0  "
      ]
     },
     "execution_count": 376,
     "metadata": {},
     "output_type": "execute_result"
    }
   ],
   "source": [
    "# Display the last few rows of the DataFrame\n",
    "#This prints the last 5 rows\n",
    "clean_data.tail()"
   ]
  },
  {
   "cell_type": "code",
   "execution_count": 377,
   "metadata": {},
   "outputs": [
    {
     "name": "stdout",
     "output_type": "stream",
     "text": [
      "<class 'pandas.core.frame.DataFrame'>\n",
      "RangeIndex: 1032 entries, 0 to 1031\n",
      "Data columns (total 10 columns):\n",
      " #   Column           Non-Null Count  Dtype  \n",
      "---  ------           --------------  -----  \n",
      " 0   campaign_name    1032 non-null   object \n",
      " 1   start_date       1031 non-null   object \n",
      " 2   end_date         1030 non-null   object \n",
      " 3   budget           1029 non-null   object \n",
      " 4   roi              1028 non-null   float64\n",
      " 5   type             1031 non-null   object \n",
      " 6   target_audience  1030 non-null   object \n",
      " 7   channel          1031 non-null   object \n",
      " 8   conversion_rate  1028 non-null   float64\n",
      " 9   revenue          1029 non-null   float64\n",
      "dtypes: float64(3), object(7)\n",
      "memory usage: 80.8+ KB\n"
     ]
    }
   ],
   "source": [
    "#Dataframe info, including data types (Dtype) and its total, number of entries and total of columns\n",
    "clean_data.info()\n"
   ]
  },
  {
   "cell_type": "code",
   "execution_count": 378,
   "metadata": {},
   "outputs": [
    {
     "name": "stdout",
     "output_type": "stream",
     "text": [
      "campaign_name      0\n",
      "start_date         1\n",
      "end_date           2\n",
      "budget             3\n",
      "roi                4\n",
      "type               1\n",
      "target_audience    2\n",
      "channel            1\n",
      "conversion_rate    4\n",
      "revenue            3\n",
      "dtype: int64\n",
      "Total of empty values:  21\n",
      "Rows with at least one missing value: 11\n",
      "Number of empty rows: 0\n"
     ]
    }
   ],
   "source": [
    "#Count of empty values per column\n",
    "empty_values = clean_data.isnull().sum()\n",
    "print(empty_values)\n",
    "\n",
    "print(\"Total of empty values: \", sum(empty_values))\n",
    "\n",
    "# Rows with at least one missing value\n",
    "rows_with_missing = clean_data.isnull().any(axis=1).sum()\n",
    "print(f\"Rows with at least one missing value: {rows_with_missing}\")\n",
    "\n",
    "# Empty rows\n",
    "empty_rows = clean_data[clean_data.isnull().all(axis=1)]\n",
    "print(f\"Number of empty rows: {empty_rows.shape[0]}\")"
   ]
  },
  {
   "cell_type": "code",
   "execution_count": 379,
   "metadata": {},
   "outputs": [
    {
     "data": {
      "text/html": [
       "<div>\n",
       "<style scoped>\n",
       "    .dataframe tbody tr th:only-of-type {\n",
       "        vertical-align: middle;\n",
       "    }\n",
       "\n",
       "    .dataframe tbody tr th {\n",
       "        vertical-align: top;\n",
       "    }\n",
       "\n",
       "    .dataframe thead th {\n",
       "        text-align: right;\n",
       "    }\n",
       "</style>\n",
       "<table border=\"1\" class=\"dataframe\">\n",
       "  <thead>\n",
       "    <tr style=\"text-align: right;\">\n",
       "      <th></th>\n",
       "      <th>roi</th>\n",
       "      <th>conversion_rate</th>\n",
       "      <th>revenue</th>\n",
       "    </tr>\n",
       "  </thead>\n",
       "  <tbody>\n",
       "    <tr>\n",
       "      <th>count</th>\n",
       "      <td>1028.000000</td>\n",
       "      <td>1028.000000</td>\n",
       "      <td>1029.000000</td>\n",
       "    </tr>\n",
       "    <tr>\n",
       "      <th>mean</th>\n",
       "      <td>0.533804</td>\n",
       "      <td>0.541936</td>\n",
       "      <td>511591.195277</td>\n",
       "    </tr>\n",
       "    <tr>\n",
       "      <th>std</th>\n",
       "      <td>0.261869</td>\n",
       "      <td>0.267353</td>\n",
       "      <td>287292.729847</td>\n",
       "    </tr>\n",
       "    <tr>\n",
       "      <th>min</th>\n",
       "      <td>-0.200000</td>\n",
       "      <td>0.000000</td>\n",
       "      <td>108.210000</td>\n",
       "    </tr>\n",
       "    <tr>\n",
       "      <th>25%</th>\n",
       "      <td>0.310000</td>\n",
       "      <td>0.300000</td>\n",
       "      <td>267820.250000</td>\n",
       "    </tr>\n",
       "    <tr>\n",
       "      <th>50%</th>\n",
       "      <td>0.530000</td>\n",
       "      <td>0.550000</td>\n",
       "      <td>518001.770000</td>\n",
       "    </tr>\n",
       "    <tr>\n",
       "      <th>75%</th>\n",
       "      <td>0.760000</td>\n",
       "      <td>0.770000</td>\n",
       "      <td>765775.140000</td>\n",
       "    </tr>\n",
       "    <tr>\n",
       "      <th>max</th>\n",
       "      <td>0.990000</td>\n",
       "      <td>1.500000</td>\n",
       "      <td>999712.490000</td>\n",
       "    </tr>\n",
       "  </tbody>\n",
       "</table>\n",
       "</div>"
      ],
      "text/plain": [
       "               roi  conversion_rate        revenue\n",
       "count  1028.000000      1028.000000    1029.000000\n",
       "mean      0.533804         0.541936  511591.195277\n",
       "std       0.261869         0.267353  287292.729847\n",
       "min      -0.200000         0.000000     108.210000\n",
       "25%       0.310000         0.300000  267820.250000\n",
       "50%       0.530000         0.550000  518001.770000\n",
       "75%       0.760000         0.770000  765775.140000\n",
       "max       0.990000         1.500000  999712.490000"
      ]
     },
     "execution_count": 379,
     "metadata": {},
     "output_type": "execute_result"
    }
   ],
   "source": [
    "# Descriptive statistics and possible outliers\n",
    "clean_data.describe()\n"
   ]
  },
  {
   "cell_type": "code",
   "execution_count": 380,
   "metadata": {},
   "outputs": [
    {
     "name": "stdout",
     "output_type": "stream",
     "text": [
      "\n",
      "Unique values in type:\n",
      "['email' 'podcast' 'webinar' 'social media' nan 'event' 'B2B']\n",
      "\n",
      "Unique values in target_audience:\n",
      "['B2B' 'B2C' 'social media' nan]\n",
      "\n",
      "Unique values in channel:\n",
      "['organic' 'promotion' 'paid' 'referral' nan]\n"
     ]
    }
   ],
   "source": [
    "# Review unique values in categorical columns\n",
    "cat_cols = ['type', 'target_audience', 'channel']\n",
    "for col in cat_cols:\n",
    "    print(f\"\\nUnique values in {col}:\")\n",
    "    print(clean_data[col].unique())"
   ]
  },
  {
   "cell_type": "markdown",
   "metadata": {},
   "source": [
    "## Data Issues Identified\n",
    "\n",
    "During data preprocessing, the following data quality issues were found:\n",
    "\n",
    "1. **Rows with Incorrect Number of Columns**  \n",
    "    - Some rows in the raw CSV did not match the expected number of columns and were excluded.\n",
    "\n",
    "2. **Missing Values**  \n",
    "    - Several columns contained missing values, including `start_date`, `end_date`, `budget`, `roi`, `type`, `target_audience`, `channel`, `conversion_rate`, and `revenue`.\n",
    "\n",
    "3. **Invalid (Non-numeric) Values in Numeric Columns**  \n",
    "    - Non-numeric values were present in columns expected to be numeric, such as `budget`, `conversion_rate`, `revenue`, and `roi`.\n",
    "\n",
    "4. **Incorrect Column Data Type**  \n",
    "    - Columns like `budget` is expected to be float instead of object.\n",
    "\n",
    "5. **Empty Values**  \n",
    "    - Empty values were found in all columns except `campaign_name`.\n",
    "\n",
    "6. **Unexpected Categorical Values**  \n",
    "    - The `type` and `target_audience` columns contained values outside the expected categories or possible misplacements.\n",
    "\n",
    "7. **Outliers**  \n",
    "    - Outliers were present in numeric columns, especially in `conversion_rate` (values > 100%) and `revenue` (values much higher than average).\n"
   ]
  },
  {
   "cell_type": "markdown",
   "metadata": {},
   "source": [
    "## Cleaning Process"
   ]
  },
  {
   "cell_type": "markdown",
   "metadata": {},
   "source": [
    "### Handling Misising Values\n",
    "Percentage of missing values per column. This information is crucial for determining how to handle missing data—columns with a high percentage of missing values may require different treatment than those with only a few missing entries."
   ]
  },
  {
   "cell_type": "code",
   "execution_count": 381,
   "metadata": {},
   "outputs": [
    {
     "name": "stdout",
     "output_type": "stream",
     "text": [
      "campaign_name      0.000000\n",
      "start_date         0.096899\n",
      "end_date           0.193798\n",
      "budget             0.290698\n",
      "roi                0.387597\n",
      "type               0.096899\n",
      "target_audience    0.193798\n",
      "channel            0.096899\n",
      "conversion_rate    0.387597\n",
      "revenue            0.290698\n",
      "dtype: float64\n"
     ]
    }
   ],
   "source": [
    "#Percentage of empty values per column\n",
    "empty_values_percentage = (empty_values / len(clean_data)) * 100\n",
    "print(empty_values_percentage)"
   ]
  },
  {
   "cell_type": "markdown",
   "metadata": {},
   "source": [
    "Checked the row where `type` is 'B2B' and `target_audience` is 'social media'.  \n",
    "**Resolution:** This row was dropped from the dataset because it is mostly null, with many missing values, and is not relevant for analysis."
   ]
  },
  {
   "cell_type": "code",
   "execution_count": 382,
   "metadata": {},
   "outputs": [
    {
     "name": "stdout",
     "output_type": "stream",
     "text": [
      "            campaign_name  start_date end_date budget  roi type  \\\n",
      "1024  Null-heavy campaign  2023-01-01      NaN    NaN  NaN  B2B   \n",
      "\n",
      "     target_audience channel  conversion_rate  revenue  \n",
      "1024    social media     NaN              NaN      NaN  \n"
     ]
    }
   ],
   "source": [
    "# Print all rows where type is 'B2B' or target_audience is 'socialmedia'\n",
    "misplaced_rows = clean_data[\n",
    "    (clean_data['type'] == 'B2B') | (clean_data['target_audience'] == 'social media')\n",
    "]\n",
    "print(misplaced_rows)\n",
    "\n",
    "# Drop the misplaced rows\n",
    "clean_data = clean_data[\n",
    "    ~((clean_data['type'] == 'B2B') & (clean_data['target_audience'] == 'social media'))\n",
    "]"
   ]
  },
  {
   "cell_type": "markdown",
   "metadata": {},
   "source": [
    "Converted the `budget` column from object to float, ensuring all values are numeric. Invalid entries were coerced to NaN for consistent data processing."
   ]
  },
  {
   "cell_type": "code",
   "execution_count": 383,
   "metadata": {},
   "outputs": [
    {
     "name": "stdout",
     "output_type": "stream",
     "text": [
      "budget column is now: float64\n"
     ]
    }
   ],
   "source": [
    "# Convert 'budget' to numeric, setting errors='coerce' will turn invalid values (like 'abc') into NaN\n",
    "clean_data['budget'] = pd.to_numeric(clean_data['budget'], errors='coerce')\n",
    "\n",
    "# Check 'budget' data type after conversion\n",
    "print(f\"budget column is now: {clean_data['budget'].dtype}\")"
   ]
  },
  {
   "cell_type": "markdown",
   "metadata": {},
   "source": [
    "Checked whether any values in the float columns (`budget`, `roi`, `conversion_rate`, `revenue`) contain a comma (`,`), which could indicate improper formatting or parsing issues. This helps ensure all numeric data is correctly recognized for analysis."
   ]
  },
  {
   "cell_type": "code",
   "execution_count": 384,
   "metadata": {},
   "outputs": [
    {
     "name": "stdout",
     "output_type": "stream",
     "text": [
      "Column 'budget' has values with commas: False\n",
      "Column 'roi' has values with commas: False\n",
      "Column 'conversion_rate' has values with commas: False\n",
      "Column 'revenue' has values with commas: False\n"
     ]
    }
   ],
   "source": [
    "# List of float columns to check\n",
    "float_cols = ['budget', 'roi', 'conversion_rate', 'revenue']\n",
    "\n",
    "for col in float_cols:\n",
    "    # Convert to string and check for commas\n",
    "    has_comma = clean_data[col].astype(str).str.contains(',', na=False).any()\n",
    "    print(f\"Column '{col}' has values with commas: {has_comma}\")\n",
    "    \n",
    "    # Optionally, display some examples\n",
    "    if has_comma:\n",
    "        print(f\"Examples from '{col}' with commas:\")\n",
    "        print(clean_data[clean_data[col].astype(str).str.contains(',', na=False)][col].head())"
   ]
  },
  {
   "cell_type": "markdown",
   "metadata": {},
   "source": [
    "All float columns (`budget`, `roi`, `conversion_rate`, `revenue`) were standardized to have two decimal places for consistency and easier interpretation in analysis and reporting."
   ]
  },
  {
   "cell_type": "code",
   "execution_count": 385,
   "metadata": {},
   "outputs": [],
   "source": [
    "# Standardize all float columns to have 2 decimal places\n",
    "\n",
    "# Convert columns to numeric (if not already), then round to 2 decimals\n",
    "for col in float_cols:\n",
    "    clean_data[col] = pd.to_numeric(clean_data[col], errors='coerce').round(2)"
   ]
  },
  {
   "cell_type": "markdown",
   "metadata": {},
   "source": [
    "The following code identifies outliers in each numeric column of the dataset using two methods: the Interquartile Range (IQR) method and the Modified Z-score method. For each column in `float_cols`, it calculates the IQR and flags values outside 1.0 times the IQR from the first and third quartiles as outliers. It also computes the median absolute deviation (MAD) and uses it to calculate the modified Z-score, flagging values with an absolute Z-score greater than 3.5 as outliers. The results from both methods are combined and displayed for each column, providing a comprehensive view of potential outliers in the data.\n"
   ]
  },
  {
   "cell_type": "code",
   "execution_count": 386,
   "metadata": {},
   "outputs": [
    {
     "name": "stdout",
     "output_type": "stream",
     "text": [
      "\n",
      "Outliers in budget:\n",
      "         budget\n",
      "1008  9999999.0\n",
      "\n",
      "Outliers in roi:\n",
      "      roi\n",
      "1023 -0.2\n",
      "\n",
      "Outliers in conversion_rate:\n",
      "      conversion_rate\n",
      "1031              1.5\n",
      "\n",
      "Outliers in revenue:\n",
      "Empty DataFrame\n",
      "Columns: [revenue]\n",
      "Index: []\n"
     ]
    }
   ],
   "source": [
    "# Get outlier rows for a column\n",
    "\n",
    "from scipy.stats import median_abs_deviation\n",
    "\n",
    "for col in float_cols:\n",
    "    # IQR method with a lower threshold\n",
    "    Q1 = clean_data[col].quantile(0.25)\n",
    "    Q3 = clean_data[col].quantile(0.75)\n",
    "    IQR = Q3 - Q1\n",
    "    iqr_outliers = clean_data[(clean_data[col] < Q1 - 1.0 * IQR) | (clean_data[col] > Q3 + 1.0 * IQR)]\n",
    "    \n",
    "    # Modified Z-score method\n",
    "    median = clean_data[col].median()\n",
    "    mad = median_abs_deviation(clean_data[col], nan_policy='omit')\n",
    "    if mad > 0:\n",
    "        mod_z = 0.6745 * (clean_data[col] - median) / mad\n",
    "        z_outliers = clean_data[mod_z.abs() > 3.5]\n",
    "    else:\n",
    "        z_outliers = pd.DataFrame()\n",
    "    \n",
    "    # Combine outliers\n",
    "    combined_outliers = pd.concat([iqr_outliers, z_outliers]).drop_duplicates()\n",
    "    print(f\"\\nOutliers in {col}:\")\n",
    "    print(combined_outliers[[col]])"
   ]
  },
  {
   "cell_type": "code",
   "execution_count": 387,
   "metadata": {},
   "outputs": [
    {
     "name": "stdout",
     "output_type": "stream",
     "text": [
      "Rows with outlier Budget (statistical or negative):\n",
      "          campaign_name  start_date    end_date     budget  roi     type  \\\n",
      "1008     Outlier Budget  2023-07-01  2024-03-01  9999999.0  0.1    email   \n",
      "1023  Negative ROI test  2022-10-10  2023-05-05   -10000.0 -0.2  podcast   \n",
      "\n",
      "     target_audience    channel  conversion_rate  revenue  \n",
      "1008             B2B  promotion              0.2  50000.0  \n",
      "1023             B2C   referral              0.1      NaN  \n",
      "Rows with outlier ROI (statistical, negative, or >1):\n",
      "          campaign_name  start_date    end_date   budget  roi     type  \\\n",
      "1023  Negative ROI test  2022-10-10  2023-05-05 -10000.0 -0.2  podcast   \n",
      "\n",
      "     target_audience   channel  conversion_rate  revenue  \n",
      "1023             B2C  referral              0.1      NaN  \n",
      "Rows with outlier Conversion Rate (statistical, >1, or <0):\n",
      "             campaign_name  start_date    end_date   budget  roi  \\\n",
      "1031  Too many conversions  2023-05-01  2023-11-01  40000.0  0.8   \n",
      "\n",
      "              type target_audience  channel  conversion_rate   revenue  \n",
      "1031  social media             B2C  organic              1.5  120000.0  \n"
     ]
    }
   ],
   "source": [
    "# Check rows with outliers\n",
    "\n",
    "def get_outlier_rows(df, col):\n",
    "    Q1 = df[col].quantile(0.25)\n",
    "    Q3 = df[col].quantile(0.75)\n",
    "    IQR = Q3 - Q1\n",
    "    # Statistical outliers\n",
    "    stat_outliers = df[(df[col] < Q1 - 1.5 * IQR) | (df[col] > Q3 + 1.5 * IQR)]\n",
    "    return stat_outliers\n",
    "\n",
    "# Budget outliers (statistical + negative values)\n",
    "budget_outliers = get_outlier_rows(clean_data, 'budget')\n",
    "budget_negatives = clean_data[clean_data['budget'] < 0]\n",
    "print(\"Rows with outlier Budget (statistical or negative):\")\n",
    "print(pd.concat([budget_outliers, budget_negatives]).drop_duplicates())\n",
    "\n",
    "# ROI outliers (statistical + negative + >1)\n",
    "roi_outliers = get_outlier_rows(clean_data, 'roi')\n",
    "roi_negatives = clean_data[clean_data['roi'] < 0]\n",
    "roi_above_one = clean_data[clean_data['roi'] > 1]\n",
    "print(\"Rows with outlier ROI (statistical, negative, or >1):\")\n",
    "print(pd.concat([roi_outliers, roi_negatives, roi_above_one]).drop_duplicates())\n",
    "\n",
    "# Conversion Rate outliers (statistical + >1 or <0)\n",
    "conv_outliers = get_outlier_rows(clean_data, 'conversion_rate')\n",
    "conv_above_one = clean_data[clean_data['conversion_rate'] > 1]\n",
    "conv_below_zero = clean_data[clean_data['conversion_rate'] < 0]\n",
    "print(\"Rows with outlier Conversion Rate (statistical, >1, or <0):\")\n",
    "print(pd.concat([conv_outliers, conv_above_one, conv_below_zero]).drop_duplicates())\n",
    "\n"
   ]
  },
  {
   "cell_type": "markdown",
   "metadata": {},
   "source": [
    "Negative values in the `budget` column were corrected by converting them to their absolute values. This assumes negative budgets are data entry errors, ensuring all budgets are positive and meaningful for analysis."
   ]
  },
  {
   "cell_type": "code",
   "execution_count": 388,
   "metadata": {},
   "outputs": [],
   "source": [
    "# Fix negative values in the 'budget' column by converting them to positive (absolute value)\n",
    "neg_budget_mask = clean_data['budget'] < 0\n",
    "clean_data.loc[neg_budget_mask, 'budget'] = clean_data.loc[neg_budget_mask, 'budget'].abs()"
   ]
  },
  {
   "cell_type": "markdown",
   "metadata": {},
   "source": [
    "A new column, `roi_recalculated`, was created using the standard ROI formula in decimal format to validate the consistency of reported ROI values. By comparing the original and recalculated ROI (stored in `roi_diff`), we identified rows with significant discrepancies. This validation step was crucial before correcting outliers in the `budget` and `roi` columns, as it ensured that any adjustments—such as recalculating budgets from revenue and ROI or correcting negative/implausible values—were based on accurate relationships between these metrics.\n",
    "\n",
    "Ensuring the accuracy and consistency of ROI and budget values is essential for marketing analysis, as these metrics directly impact the evaluation of campaign effectiveness, resource allocation, and strategic decision-making. Reliable ROI calculations allow for meaningful comparisons across campaigns and support data-driven recommendations for future marketing investments."
   ]
  },
  {
   "cell_type": "code",
   "execution_count": 389,
   "metadata": {},
   "outputs": [
    {
     "name": "stdout",
     "output_type": "stream",
     "text": [
      "       roi  roi_recalculated  roi_diff    budget    revenue\n",
      "0     0.35             86.80     86.45   8082.30  709593.48\n",
      "1     0.74             28.17     27.43  17712.98  516609.10\n",
      "2     0.37              4.41      4.04  84643.10  458227.42\n",
      "3     0.47              5.17      4.70  14589.75   89958.73\n",
      "4     0.30              0.21      0.09  39291.90   47511.35\n",
      "...    ...               ...       ...       ...        ...\n",
      "1022  0.45              2.50      2.05  25000.00   87500.00\n",
      "1025  0.90              1.67      0.77  75000.00  200000.00\n",
      "1026  0.25              0.50      0.25  30000.00   45000.00\n",
      "1030  0.60              0.50      0.10  60000.00   90000.00\n",
      "1031  0.80              2.00      1.20  40000.00  120000.00\n",
      "\n",
      "[1024 rows x 5 columns]\n"
     ]
    }
   ],
   "source": [
    "# Calculate ROI using the standard formula and store in a new column as decimal\n",
    "# ROI = (revenue - budget) / budget\n",
    "clean_data['roi_recalculated'] = (((clean_data['revenue'] - clean_data['budget']) / clean_data['budget'])).round(2)\n",
    "\n",
    "# Calculate the absolute difference between the original and recalculated ROI\n",
    "clean_data['roi_diff'] = (clean_data['roi'] - clean_data['roi_recalculated']).abs()\n",
    "\n",
    "# Set a threshold to define what is considered a significant difference\n",
    "threshold = 0.01  # You can adjust this value based on your analysis needs\n",
    "\n",
    "# Find rows where the difference between original and recalculated ROI is significant\n",
    "diff_rows = clean_data[clean_data['roi_diff'] > threshold]\n",
    "\n",
    "# Print the rows with significant differences for review\n",
    "print(diff_rows[['roi', 'roi_recalculated', 'roi_diff', 'budget', 'revenue']])"
   ]
  },
  {
   "cell_type": "markdown",
   "metadata": {},
   "source": [
    "For all subsequent analysis, the recalculated ROI (`roi_recalculated`) was used in place of the original ROI values. This ensures that all ROI figures are consistent with the cleaned `budget` and `revenue` data, improving the reliability and transparency of the analysis. The original ROI column was replaced to avoid confusion and maintain data integrity."
   ]
  },
  {
   "cell_type": "code",
   "execution_count": 390,
   "metadata": {},
   "outputs": [],
   "source": [
    "# Replace the original 'roi' column with the recalculated ROI values for consistency\n",
    "clean_data['roi'] = clean_data['roi_recalculated']\n",
    "\n",
    "# Remove the temporary columns used for ROI validation to clean up the DataFrame\n",
    "clean_data = clean_data.drop(columns=['roi_recalculated', 'roi_diff'])"
   ]
  },
  {
   "cell_type": "code",
   "execution_count": 391,
   "metadata": {},
   "outputs": [
    {
     "data": {
      "text/html": [
       "<div>\n",
       "<style scoped>\n",
       "    .dataframe tbody tr th:only-of-type {\n",
       "        vertical-align: middle;\n",
       "    }\n",
       "\n",
       "    .dataframe tbody tr th {\n",
       "        vertical-align: top;\n",
       "    }\n",
       "\n",
       "    .dataframe thead th {\n",
       "        text-align: right;\n",
       "    }\n",
       "</style>\n",
       "<table border=\"1\" class=\"dataframe\">\n",
       "  <thead>\n",
       "    <tr style=\"text-align: right;\">\n",
       "      <th></th>\n",
       "      <th>budget</th>\n",
       "      <th>roi</th>\n",
       "      <th>conversion_rate</th>\n",
       "      <th>revenue</th>\n",
       "    </tr>\n",
       "  </thead>\n",
       "  <tbody>\n",
       "    <tr>\n",
       "      <th>count</th>\n",
       "      <td>1.028000e+03</td>\n",
       "      <td>1026.000000</td>\n",
       "      <td>1028.000000</td>\n",
       "      <td>1029.000000</td>\n",
       "    </tr>\n",
       "    <tr>\n",
       "      <th>mean</th>\n",
       "      <td>5.901544e+04</td>\n",
       "      <td>24.959600</td>\n",
       "      <td>0.541936</td>\n",
       "      <td>511591.195277</td>\n",
       "    </tr>\n",
       "    <tr>\n",
       "      <th>std</th>\n",
       "      <td>3.116913e+05</td>\n",
       "      <td>61.564319</td>\n",
       "      <td>0.267353</td>\n",
       "      <td>287292.729847</td>\n",
       "    </tr>\n",
       "    <tr>\n",
       "      <th>min</th>\n",
       "      <td>1.052570e+03</td>\n",
       "      <td>-1.000000</td>\n",
       "      <td>0.000000</td>\n",
       "      <td>108.210000</td>\n",
       "    </tr>\n",
       "    <tr>\n",
       "      <th>25%</th>\n",
       "      <td>2.473549e+04</td>\n",
       "      <td>4.410000</td>\n",
       "      <td>0.300000</td>\n",
       "      <td>267820.250000</td>\n",
       "    </tr>\n",
       "    <tr>\n",
       "      <th>50%</th>\n",
       "      <td>4.694824e+04</td>\n",
       "      <td>9.375000</td>\n",
       "      <td>0.550000</td>\n",
       "      <td>518001.770000</td>\n",
       "    </tr>\n",
       "    <tr>\n",
       "      <th>75%</th>\n",
       "      <td>7.492365e+04</td>\n",
       "      <td>20.040000</td>\n",
       "      <td>0.770000</td>\n",
       "      <td>765775.140000</td>\n",
       "    </tr>\n",
       "    <tr>\n",
       "      <th>max</th>\n",
       "      <td>9.999999e+06</td>\n",
       "      <td>884.760000</td>\n",
       "      <td>1.500000</td>\n",
       "      <td>999712.490000</td>\n",
       "    </tr>\n",
       "  </tbody>\n",
       "</table>\n",
       "</div>"
      ],
      "text/plain": [
       "             budget          roi  conversion_rate        revenue\n",
       "count  1.028000e+03  1026.000000      1028.000000    1029.000000\n",
       "mean   5.901544e+04    24.959600         0.541936  511591.195277\n",
       "std    3.116913e+05    61.564319         0.267353  287292.729847\n",
       "min    1.052570e+03    -1.000000         0.000000     108.210000\n",
       "25%    2.473549e+04     4.410000         0.300000  267820.250000\n",
       "50%    4.694824e+04     9.375000         0.550000  518001.770000\n",
       "75%    7.492365e+04    20.040000         0.770000  765775.140000\n",
       "max    9.999999e+06   884.760000         1.500000  999712.490000"
      ]
     },
     "execution_count": 391,
     "metadata": {},
     "output_type": "execute_result"
    }
   ],
   "source": [
    "clean_data.describe()"
   ]
  },
  {
   "cell_type": "markdown",
   "metadata": {},
   "source": [
    "### Outlier Correction\n",
    "\n",
    "Outliers in the `budget` column (such as 9,999,999.0 or negative values) were corrected by recalculating the budget using available `revenue` and `roi` values, or by converting the budget to its absolute value if recalculation was not possible. ROI was recalculated for these rows to maintain consistency.\n",
    "\n",
    "**Formulas used for recalculation:**\n",
    "- `budget` = `revenue` / (`roi` + 1)\n",
    "- `roi` = (`revenue` - `budget`) / `budget`\n",
    "\n",
    "Instead of removing or setting out-of-range values in `roi` and `conversion_rate` to NaN, these were flagged using new columns (`roi_outlier` and `conversion_rate_outlier`). This preserves all data for further analysis and transparent decision-making."
   ]
  },
  {
   "cell_type": "code",
   "execution_count": 392,
   "metadata": {},
   "outputs": [],
   "source": [
    "# Fixing outliers and recalculating values for budget, ROI, and conversion_rate\n",
    "\n",
    "# 1. Fix budget outlier (e.g., 9999999.0) by recalculating from revenue and ROI if possible\n",
    "budget_outlier_mask = clean_data['budget'] == 9999999.0\n",
    "for idx in clean_data[budget_outlier_mask].index:\n",
    "    row = clean_data.loc[idx]\n",
    "    if pd.notnull(row['revenue']) and pd.notnull(row['roi']) and row['roi'] != -1:\n",
    "        new_budget = row['revenue'] / (row['roi'] + 1)\n",
    "        clean_data.at[idx, 'budget'] = new_budget\n",
    "        # Recalculate ROI to ensure consistency\n",
    "        clean_data.at[idx, 'roi'] = (row['revenue'] - new_budget) / new_budget\n",
    "\n",
    "# 2. Fix negative budgets (should not be negative)\n",
    "neg_budget_mask = clean_data['budget'] < 0\n",
    "for idx in clean_data[neg_budget_mask].index:\n",
    "    row = clean_data.loc[idx]\n",
    "    if pd.notnull(row['revenue']) and pd.notnull(row['roi']) and row['roi'] != -1:\n",
    "        new_budget = row['revenue'] / (row['roi'] + 1)\n",
    "        clean_data.at[idx, 'budget'] = new_budget\n",
    "        # Recalculate ROI to ensure consistency\n",
    "        clean_data.at[idx, 'roi'] = (row['revenue'] - new_budget) / new_budget\n",
    "    else:\n",
    "        # If not possible to fix, set budget to its absolute value (remove negative sign)\n",
    "        clean_data.at[idx, 'budget'] = abs(row['budget'])\n",
    "        # Recalculate ROI to ensure consistency\n",
    "        if pd.notnull(row['revenue']):\n",
    "            clean_data.at[idx, 'roi'] = (row['revenue'] - clean_data.at[idx, 'budget']) / clean_data.at[idx, 'budget']\n"
   ]
  },
  {
   "cell_type": "markdown",
   "metadata": {},
   "source": [
    "Conversion rates greater than 1.0 were corrected by dividing by 100, assuming they were entered as percentages. Any remaining values above 1.0 were capped at 1.0 to ensure all conversion rates are within the valid range [0, 1]."
   ]
  },
  {
   "cell_type": "code",
   "execution_count": 393,
   "metadata": {},
   "outputs": [],
   "source": [
    "# Fix conversion_rate values greater than 1.0\n",
    "# If you believe they are percentages (e.g., 150% entered as 1.5), divide by 100\n",
    "mask = clean_data['conversion_rate'] > 1\n",
    "clean_data.loc[mask, 'conversion_rate'] = clean_data.loc[mask, 'conversion_rate'] / 100\n",
    "\n",
    "# Optionally, cap any remaining values above 1.0 to 1.0\n",
    "clean_data.loc[clean_data['conversion_rate'] > 1, 'conversion_rate'] = 1.0"
   ]
  },
  {
   "cell_type": "markdown",
   "metadata": {},
   "source": [
    "### Fixing missing values for Budget, Revenue and ROI\n",
    "\n",
    "Missing values in the `budget`, `revenue`, and `roi` columns were filled by recalculating them using the available values from the other columns, regardless of whether the values were negative or positive. The condition `roi != -1` was included to avoid division by zero when recalculating budget. This approach ensures that as much data as possible is retained for analysis, while maintaining consistency with the mathematical relationship between these variables."
   ]
  },
  {
   "cell_type": "code",
   "execution_count": 394,
   "metadata": {},
   "outputs": [],
   "source": [
    "# Fix missing values in budget, revenue, and roi by recalculating when possible, regardless of sign\n",
    "\n",
    "# Fill missing budget where revenue and roi are present and roi != -1\n",
    "mask_budget = clean_data['budget'].isnull() & clean_data['revenue'].notnull() & clean_data['roi'].notnull() & (clean_data['roi'] != -1)\n",
    "clean_data.loc[mask_budget, 'budget'] = clean_data.loc[mask_budget, 'revenue'] / (clean_data.loc[mask_budget, 'roi'] + 1)\n",
    "\n",
    "# Fill missing revenue where budget and roi are present\n",
    "mask_revenue = clean_data['revenue'].isnull() & clean_data['budget'].notnull() & clean_data['roi'].notnull()\n",
    "clean_data.loc[mask_revenue, 'revenue'] = clean_data.loc[mask_revenue, 'budget'] * (clean_data.loc[mask_revenue, 'roi'] + 1)\n",
    "\n",
    "# Fill missing roi where budget and revenue are present and budget != 0\n",
    "mask_roi = clean_data['roi'].isnull() & clean_data['budget'].notnull() & clean_data['revenue'].notnull() & (clean_data['budget'] != 0)\n",
    "clean_data.loc[mask_roi, 'roi'] = (clean_data.loc[mask_roi, 'revenue'] - clean_data.loc[mask_roi, 'budget']) / clean_data.loc[mask_roi, 'budget']"
   ]
  },
  {
   "cell_type": "markdown",
   "metadata": {},
   "source": [
    "Rows with missing, invalid, or nonsensical dates (such as a `start_date` after `end_date`) were removed. All date fields were standardized to the `yyyy-mm-dd` format to ensure consistency and reliability for time-based analyses. This process improves data quality and ensures accurate temporal comparisons.\n",
    "\n",
    "Before cleaning, rows where the `start_date` was after the `end_date` were identified and printed for review. Detecting and handling such inconsistencies is essential to ensure the reliability of any time-based analysis."
   ]
  },
  {
   "cell_type": "code",
   "execution_count": 395,
   "metadata": {},
   "outputs": [
    {
     "name": "stdout",
     "output_type": "stream",
     "text": [
      "Invalid date ranges (start date after end date):       start_date    end_date\n",
      "1030  2023-03-01  2022-12-31\n"
     ]
    }
   ],
   "source": [
    "# Print rows where start date is after end date\n",
    "invalid_date_range = clean_data[clean_data['start_date'] > clean_data['end_date']]\n",
    "print(f\"Invalid date ranges (start date after end date): {invalid_date_range[['start_date', 'end_date']]}\")\n"
   ]
  },
  {
   "cell_type": "markdown",
   "metadata": {},
   "source": [
    "To identify rows with invalid date formats or impossible dates, the `start_date` and `end_date` columns were parsed using `pd.to_datetime()` with `errors='coerce'`. This approach converts any unparseable or non-existent dates (such as February 30th) to `NaT`. Rows where the parsed date is `NaT` were then printed for review, allowing for targeted correction or removal of problematic date entries."
   ]
  },
  {
   "cell_type": "code",
   "execution_count": 396,
   "metadata": {},
   "outputs": [
    {
     "name": "stdout",
     "output_type": "stream",
     "text": [
      "Rows with invalid start_date format:\n",
      "      start_date\n",
      "1006  2023-13-01\n",
      "1021         NaN\n",
      "1022  2023-13-01\n",
      "Rows with invalid end_date format:\n",
      "        end_date\n",
      "1006  2024-02-30\n",
      "1028         NaN\n"
     ]
    }
   ],
   "source": [
    "# Try to convert to datetime, but keep the original for comparison\n",
    "start_date_parsed = pd.to_datetime(clean_data['start_date'], errors='coerce')\n",
    "invalid_start_dates = clean_data[start_date_parsed.isna()]\n",
    "print(\"Rows with invalid start_date format:\")\n",
    "print(invalid_start_dates[['start_date']])\n",
    "\n",
    "end_date_parsed = pd.to_datetime(clean_data['end_date'], errors='coerce')\n",
    "invalid_end_dates = clean_data[end_date_parsed.isna()]\n",
    "print(\"Rows with invalid end_date format:\")\n",
    "print(invalid_end_dates[['end_date']])"
   ]
  },
  {
   "cell_type": "markdown",
   "metadata": {},
   "source": [
    "Invalid date entries such as `2023-13-01` (nonexistent month) and `2024-02-30` (nonexistent day in February) were identified and manually corrected to valid dates based on context. After correction, the date columns were re-parsed to ensure all entries are valid and usable for analysis."
   ]
  },
  {
   "cell_type": "code",
   "execution_count": 397,
   "metadata": {},
   "outputs": [],
   "source": [
    "# Manually correct the invalid start_date if you know the intended value\n",
    "clean_data.loc[clean_data['start_date'] == '2023-13-01', 'start_date'] = '2023-01-13'\n",
    "\n",
    "# Manually correct the invalid end_date, February 30 is not a valid date\n",
    "# 2024 is a leap year, so it has to be corrected to 2024-02-29\n",
    "clean_data.loc[clean_data['end_date'] == '2024-02-30', 'end_date'] = '2024-02-29'\n",
    "\n",
    "# Parse start_date and end_date to datetime, coercing invalid entries to NaN\n",
    "clean_data['start_date'] = pd.to_datetime(clean_data['start_date'], errors='coerce')\n",
    "clean_data['end_date'] = pd.to_datetime(clean_data['end_date'], errors='coerce')"
   ]
  },
  {
   "cell_type": "markdown",
   "metadata": {},
   "source": [
    "After correcting invalid date entries and parsing values to datetime dates were then formatted as `yyyy-mm-dd` strings for consistency throughout the dataset."
   ]
  },
  {
   "cell_type": "code",
   "execution_count": 398,
   "metadata": {},
   "outputs": [],
   "source": [
    "# Ensure all dates are consistent\n",
    "\n",
    "# Format dates as yyyy-mm-dd strings for consistency\n",
    "clean_data['start_date'] = clean_data['start_date'].dt.strftime('%Y-%m-%d')\n",
    "clean_data['end_date'] = clean_data['end_date'].dt.strftime('%Y-%m-%d')"
   ]
  },
  {
   "cell_type": "markdown",
   "metadata": {},
   "source": [
    "Missing values in the 'type' and 'target_audience' columns were filled with 'Unknown' to maintain data integrity without introducing potentially misleading assumptions."
   ]
  },
  {
   "cell_type": "code",
   "execution_count": 399,
   "metadata": {},
   "outputs": [],
   "source": [
    "# Fill missing values in 'type' and 'target_audience' with 'Unknown' to avoid introducing artificial categories\n",
    "clean_data['type'] = clean_data['type'].fillna('Unknown')\n",
    "clean_data['target_audience'] = clean_data['target_audience'].fillna('Unknown')"
   ]
  },
  {
   "cell_type": "code",
   "execution_count": 400,
   "metadata": {},
   "outputs": [
    {
     "name": "stdout",
     "output_type": "stream",
     "text": [
      "Remaining columns with missing values: campaign_name      0\n",
      "start_date         1\n",
      "end_date           1\n",
      "budget             3\n",
      "roi                5\n",
      "type               0\n",
      "target_audience    0\n",
      "channel            0\n",
      "conversion_rate    3\n",
      "revenue            2\n",
      "dtype: int64\n",
      "Remaining rows with missing values: 8\n",
      "Rows with missing values:                                campaign_name  start_date    end_date  \\\n",
      "1003  Upgradable transitional data-warehouse  2023-06-29  2023-12-13   \n",
      "1005           NEW CAMPAIGN - Missing Budget  2023-10-01  2024-01-15   \n",
      "1021           Cloud-based scalable solution         NaN  2023-12-31   \n",
      "1022                    Broken-date campaign  2023-01-13  2024-01-01   \n",
      "1023                       Negative ROI test  2022-10-10  2023-05-05   \n",
      "1027                     No revenue campaign  2023-02-01  2023-08-01   \n",
      "1028                             Random mess  2023-06-06         NaN   \n",
      "1029                          Invalid budget  2022-12-01  2023-06-01   \n",
      "\n",
      "        budget  roi          type target_audience    channel  conversion_rate  \\\n",
      "1003       NaN  NaN  social media             B2C   referral             0.67   \n",
      "1005       NaN  NaN         email             B2B    organic              NaN   \n",
      "1021   50000.0  1.4         event             B2C       paid             0.30   \n",
      "1022   25000.0  2.5         email             B2B    organic              NaN   \n",
      "1023   10000.0  NaN       podcast             B2C   referral             0.10   \n",
      "1027   20000.0  NaN  social media             B2B    organic             0.50   \n",
      "1028  100000.0  2.0       podcast         Unknown   referral              NaN   \n",
      "1029       NaN  NaN         email             B2C  promotion             0.20   \n",
      "\n",
      "        revenue  \n",
      "1003  558302.11  \n",
      "1005   45000.00  \n",
      "1021  120000.00  \n",
      "1022   87500.00  \n",
      "1023        NaN  \n",
      "1027        NaN  \n",
      "1028  300000.00  \n",
      "1029   50000.00  \n",
      "Percentage of missing values in total: campaign_name      0.000000\n",
      "start_date         0.096993\n",
      "end_date           0.096993\n",
      "budget             0.290980\n",
      "roi                0.484966\n",
      "type               0.000000\n",
      "target_audience    0.000000\n",
      "channel            0.000000\n",
      "conversion_rate    0.290980\n",
      "revenue            0.193986\n",
      "dtype: float64\n"
     ]
    }
   ],
   "source": [
    "# Remaining columns with missing values and their counts\n",
    "remaining_missing = clean_data.isnull().sum()\n",
    "print(f\"Remaining columns with missing values: {remaining_missing}\")\n",
    "\n",
    "# Count of remaining rows with missing values\n",
    "remaining_missing_rows = clean_data.isnull().any(axis=1).sum()\n",
    "print(f\"Remaining rows with missing values: {remaining_missing_rows}\")\n",
    "\n",
    "# Print rows with missing values\n",
    "missing_rows = clean_data[clean_data.isnull().any(axis=1)]\n",
    "print(f\"Rows with missing values: {missing_rows}\")\n",
    "\n",
    "# Percentage of missing values in total\n",
    "missing_percentage = (clean_data.isnull().sum() / len(clean_data)) * 100\n",
    "print(f\"Percentage of missing values in total: {missing_percentage}\")"
   ]
  },
  {
   "cell_type": "markdown",
   "metadata": {},
   "source": [
    "Rows with missing critical values (`start_date`, `end_date`, `budget`, `revenue`, `roi`, or `conversion_rate`) were removed from the dataset. This ensures that all remaining data is complete and reliable for analysis, and avoids introducing bias or errors due to incomplete records. Only a small number of rows were affected, so the overall integrity of the dataset is maintained."
   ]
  },
  {
   "cell_type": "code",
   "execution_count": 401,
   "metadata": {},
   "outputs": [],
   "source": [
    "# Drop rows with remaining missing values\n",
    "clean_data = clean_data.dropna()"
   ]
  },
  {
   "cell_type": "markdown",
   "metadata": {},
   "source": [
    "### Confirming progress:\n",
    "\n",
    "- All critical columns (`start_date`, `end_date`, `budget`, `revenue`, `roi`, `conversion_rate`) have no missing values after cleaning.\n",
    "- Data types are consistent: numeric columns are floats, date columns are formatted as `yyyy-mm-dd` strings.\n",
    "- Categorical columns (`type`, `target_audience`, `channel`) contain only valid, expected values.\n",
    "- Outliers and invalid values in `budget`, `roi`, and `conversion_rate` have been handled."
   ]
  },
  {
   "cell_type": "code",
   "execution_count": 402,
   "metadata": {},
   "outputs": [
    {
     "name": "stdout",
     "output_type": "stream",
     "text": [
      "<class 'pandas.core.frame.DataFrame'>\n",
      "Index: 1023 entries, 0 to 1031\n",
      "Data columns (total 10 columns):\n",
      " #   Column           Non-Null Count  Dtype  \n",
      "---  ------           --------------  -----  \n",
      " 0   campaign_name    1023 non-null   object \n",
      " 1   start_date       1023 non-null   object \n",
      " 2   end_date         1023 non-null   object \n",
      " 3   budget           1023 non-null   float64\n",
      " 4   roi              1023 non-null   float64\n",
      " 5   type             1023 non-null   object \n",
      " 6   target_audience  1023 non-null   object \n",
      " 7   channel          1023 non-null   object \n",
      " 8   conversion_rate  1023 non-null   float64\n",
      " 9   revenue          1023 non-null   float64\n",
      "dtypes: float64(4), object(6)\n",
      "memory usage: 87.9+ KB\n",
      "None\n",
      "campaign_name      0\n",
      "start_date         0\n",
      "end_date           0\n",
      "budget             0\n",
      "roi                0\n",
      "type               0\n",
      "target_audience    0\n",
      "channel            0\n",
      "conversion_rate    0\n",
      "revenue            0\n",
      "dtype: int64\n",
      "\n",
      "Unique values in type:\n",
      "['email' 'podcast' 'webinar' 'social media' 'Unknown']\n",
      "\n",
      "Unique values in target_audience:\n",
      "['B2B' 'B2C' 'Unknown']\n",
      "\n",
      "Unique values in channel:\n",
      "['organic' 'promotion' 'paid' 'referral']\n",
      "             budget          roi  conversion_rate        revenue\n",
      "count  1.023000e+03  1023.000000      1023.000000    1023.000000\n",
      "mean   5.421590e+04    25.027028         0.541403  513457.026227\n",
      "std    1.574450e+05    61.641983         0.266120  286748.536093\n",
      "min    1.052570e+03    -1.000000         0.000000     108.210000\n",
      "25%    2.485325e+04     4.430000         0.300000  268492.545000\n",
      "50%    4.697652e+04     9.410000         0.550000  519790.340000\n",
      "75%    7.494910e+04    20.100000         0.770000  767479.655000\n",
      "max    5.000000e+06   884.760000         0.990000  999712.490000\n",
      "   start_date    end_date\n",
      "0  2023-04-01  2024-02-23\n",
      "1  2023-02-15  2024-04-22\n",
      "2  2022-12-20  2023-10-11\n",
      "3  2022-09-26  2023-09-27\n",
      "4  2023-07-07  2024-05-15\n"
     ]
    }
   ],
   "source": [
    "# Checking progress: no missing values or invalid data types\n",
    "\n",
    "# Check data types\n",
    "print(clean_data.info())\n",
    "\n",
    "# Check for missing values in each column\n",
    "print(clean_data.isnull().sum())\n",
    "\n",
    "# Review unique values in categorical columns\n",
    "cat_cols = ['type', 'target_audience', 'channel']\n",
    "for col in cat_cols:\n",
    "    print(f\"\\nUnique values in {col}:\")\n",
    "    print(clean_data[col].unique())\n",
    "\n",
    "# Get summary statistics for float columns\n",
    "print(clean_data.describe())\n",
    "\n",
    "# Ensure dates are in correct format and order\n",
    "print(clean_data[['start_date', 'end_date']].head())"
   ]
  },
  {
   "cell_type": "markdown",
   "metadata": {},
   "source": [
    "### Handling exact duplicated rows\n",
    "\n",
    "To ensure data integrity, all exact duplicate rows were identified and removed from the dataset. The number of duplicate rows was printed before removal, and the final row count was displayed after dropping duplicates. This step guarantees that each campaign record is unique and prevents duplicate data from skewing the analysis."
   ]
  },
  {
   "cell_type": "code",
   "execution_count": 403,
   "metadata": {},
   "outputs": [
    {
     "name": "stdout",
     "output_type": "stream",
     "text": [
      "Number of exact duplicate rows: 27\n",
      "                                      campaign_name  start_date    end_date  \\\n",
      "0               Public-key multi-tasking throughput  2023-04-01  2024-02-23   \n",
      "1                De-engineered analyzing task-force  2023-02-15  2024-04-22   \n",
      "2     Balanced solution-oriented Local Area Network  2022-12-20  2023-10-11   \n",
      "3                 Distributed real-time methodology  2022-09-26  2023-09-27   \n",
      "4               Front-line executive infrastructure  2023-07-07  2024-05-15   \n",
      "5            Upgradable transitional data-warehouse  2023-06-29  2023-12-13   \n",
      "6            Innovative context-sensitive framework  2023-03-01  2024-02-23   \n",
      "7          User-friendly client-driven service-desk  2023-01-06  2023-12-11   \n",
      "8                     Proactive neutral methodology  2022-09-06  2024-01-11   \n",
      "9                      Intuitive responsive support  2022-11-25  2024-04-04   \n",
      "10                Multi-lateral dedicated workforce  2023-06-15  2024-06-15   \n",
      "11            Cross-platform demand-driven encoding  2023-07-21  2023-11-04   \n",
      "1000            Public-key multi-tasking throughput  2023-04-01  2024-02-23   \n",
      "1001  Balanced solution-oriented Local Area Network  2022-12-20  2023-10-11   \n",
      "1002              Distributed real-time methodology  2022-09-26  2023-09-27   \n",
      "1009            Public-key multi-tasking throughput  2023-04-01  2024-02-23   \n",
      "1010             De-engineered analyzing task-force  2023-02-15  2024-04-22   \n",
      "1011  Balanced solution-oriented Local Area Network  2022-12-20  2023-10-11   \n",
      "1012              Distributed real-time methodology  2022-09-26  2023-09-27   \n",
      "1013            Front-line executive infrastructure  2023-07-07  2024-05-15   \n",
      "1014         Upgradable transitional data-warehouse  2023-06-29  2023-12-13   \n",
      "1015         Innovative context-sensitive framework  2023-03-01  2024-02-23   \n",
      "1016       User-friendly client-driven service-desk  2023-01-06  2023-12-11   \n",
      "1017                  Proactive neutral methodology  2022-09-06  2024-01-11   \n",
      "1018                   Intuitive responsive support  2022-11-25  2024-04-04   \n",
      "1019              Multi-lateral dedicated workforce  2023-06-15  2024-06-15   \n",
      "1020          Cross-platform demand-driven encoding  2023-07-21  2023-11-04   \n",
      "\n",
      "        budget     roi          type target_audience    channel  \\\n",
      "0      8082.30   86.80         email             B2B    organic   \n",
      "1     17712.98   28.17         email             B2C  promotion   \n",
      "2     84643.10    4.41       podcast             B2B       paid   \n",
      "3     14589.75    5.17       webinar             B2B    organic   \n",
      "4     39291.90    0.21  social media             B2B  promotion   \n",
      "5     75569.28    6.39  social media             B2C   referral   \n",
      "6     28964.45    4.97         email             B2C   referral   \n",
      "7     36800.58    4.60       webinar             B2C  promotion   \n",
      "8     40493.88   17.14       webinar             B2C    organic   \n",
      "9      1816.22  309.14  social media             B2C   referral   \n",
      "10    94084.21    3.32       podcast             B2B   referral   \n",
      "11    64041.37    1.72  social media             B2B  promotion   \n",
      "1000   8082.30   86.80         email             B2B    organic   \n",
      "1001  84643.10    4.41       podcast             B2B       paid   \n",
      "1002  14589.75    5.17       webinar             B2B    organic   \n",
      "1009   8082.30   86.80         email             B2B    organic   \n",
      "1010  17712.98   28.17         email             B2C  promotion   \n",
      "1011  84643.10    4.41       podcast             B2B       paid   \n",
      "1012  14589.75    5.17       webinar             B2B    organic   \n",
      "1013  39291.90    0.21  social media             B2B  promotion   \n",
      "1014  75569.28    6.39  social media             B2C   referral   \n",
      "1015  28964.45    4.97         email             B2C   referral   \n",
      "1016  36800.58    4.60       webinar             B2C  promotion   \n",
      "1017  40493.88   17.14       webinar             B2C    organic   \n",
      "1018   1816.22  309.14  social media             B2C   referral   \n",
      "1019  94084.21    3.32       podcast             B2B   referral   \n",
      "1020  64041.37    1.72  social media             B2B  promotion   \n",
      "\n",
      "      conversion_rate    revenue  \n",
      "0                0.40  709593.48  \n",
      "1                0.66  516609.10  \n",
      "2                0.28  458227.42  \n",
      "3                0.19   89958.73  \n",
      "4                0.81   47511.35  \n",
      "5                0.67  558302.11  \n",
      "6                0.17  172882.59  \n",
      "7                0.52  206241.46  \n",
      "8                0.47  734755.76  \n",
      "9                0.85  563280.30  \n",
      "10               0.23  406522.77  \n",
      "11               0.55  174462.47  \n",
      "1000             0.40  709593.48  \n",
      "1001             0.28  458227.42  \n",
      "1002             0.19   89958.73  \n",
      "1009             0.40  709593.48  \n",
      "1010             0.66  516609.10  \n",
      "1011             0.28  458227.42  \n",
      "1012             0.19   89958.73  \n",
      "1013             0.81   47511.35  \n",
      "1014             0.67  558302.11  \n",
      "1015             0.17  172882.59  \n",
      "1016             0.52  206241.46  \n",
      "1017             0.47  734755.76  \n",
      "1018             0.85  563280.30  \n",
      "1019             0.23  406522.77  \n",
      "1020             0.55  174462.47  \n",
      "Number of rows after dropping duplicates: 1008\n"
     ]
    }
   ],
   "source": [
    "# Find all exact duplicate rows (excluding the first occurrence)\n",
    "duplicates = clean_data[clean_data.duplicated(keep=False)]\n",
    "\n",
    "print(f\"Number of exact duplicate rows: {duplicates.shape[0]}\")\n",
    "print(duplicates)\n",
    "\n",
    "# Drop exact duplicate rows\n",
    "clean_data = clean_data.drop_duplicates()\n",
    "print(f\"Number of rows after dropping duplicates: {clean_data.shape[0]}\")"
   ]
  }
 ],
 "metadata": {
  "kernelspec": {
   "display_name": "m1projectenv",
   "language": "python",
   "name": "python3"
  },
  "language_info": {
   "codemirror_mode": {
    "name": "ipython",
    "version": 3
   },
   "file_extension": ".py",
   "mimetype": "text/x-python",
   "name": "python",
   "nbconvert_exporter": "python",
   "pygments_lexer": "ipython3",
   "version": "3.13.2"
  }
 },
 "nbformat": 4,
 "nbformat_minor": 2
}
